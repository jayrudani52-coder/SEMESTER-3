{
 "cells": [
  {
   "cell_type": "code",
   "execution_count": null,
   "id": "4418db5a-a60d-4625-b085-39bde88fb02d",
   "metadata": {},
   "outputs": [],
   "source": [
    "#Create a pair of functions to convert Fahrenheit to Celsius temperature values and vice versa. Where C = (F-32)*(5/9).\n",
    "def fahrenheit_to_celsius(fahrenheit):\n",
    "    return (fahrenheit - 32) * (5/9)\n",
    "def celsius_to_fahrenheit(celsius):\n",
    "    return (celsius * (9/5)) + 32\n",
    "print(\"fahrenheit_to_celsius\",fahrenheit_to_celsius(98.3))\n",
    "print(\"celsius_to_fahrenheit\",celsius_to_fahrenheit(36))"
   ]
  },
  {
   "cell_type": "code",
   "execution_count": null,
   "id": "0b0cf221-9512-44d2-a6e4-d3f93aec4fa4",
   "metadata": {},
   "outputs": [],
   "source": [
    "#Write a Python function to calculate the factorial of a given number.\n",
    "def factorial(n):\n",
    "    if n == 0 or n == 1:\n",
    "        return 1\n",
    "    else:\n",
    "        return n * factorial(n - 1)\n",
    "n=int(input(\"enter number: \"))\n",
    "print(f\"factorial of {n}: {factorial(n)} \")"
   ]
  },
  {
   "cell_type": "code",
   "execution_count": null,
   "id": "f16e068b-7424-4c08-adad-b49e68784d0a",
   "metadata": {},
   "outputs": [],
   "source": [
    "#Write a Python function to check whether a number is in a given range.\n",
    "def check_in_range(num, start, end):\n",
    "    return start <= num <= end\n",
    "n=int(input(\"enter number: \"))\n",
    "start=int(input(\"enter number: \"))\n",
    "end=int(input(\"enter number: \"))\n",
    "\n",
    "if check_in_range(n,start,end):\n",
    "    print(\"in range\")\n",
    "else:\n",
    "    print(\"not in range\")"
   ]
  },
  {
   "cell_type": "code",
   "execution_count": null,
   "id": "47620af7-0d05-4c72-ac15-d0f57d0e65bb",
   "metadata": {},
   "outputs": [],
   "source": [
    "#Write a Python function to display the Fibonacci sequence till the given user input n.\n",
    "def fibonacci_sequence(n):\n",
    "    a, b = 0, 1\n",
    "    print(\"Fibonacci sequence:\")\n",
    "    while a < n:\n",
    "        print(a, end=\" \")\n",
    "        a, b = b, a + b\n",
    "num = int(input(\"Enter a number to generate Fibonacci sequence up to that number: \"))\n",
    "fibonacci_sequence(num)"
   ]
  },
  {
   "cell_type": "code",
   "execution_count": null,
   "id": "4054f7e2-bec1-457c-998b-947ae3bb38ef",
   "metadata": {},
   "outputs": [],
   "source": [
    "#Write a Python function to find the Max of TWO numbers.\n",
    "def find_max(a, b):\n",
    "    if a>b:\n",
    "        return a\n",
    "    else:\n",
    "        return b\n",
    "print(f\"max number is {find_max(5,7)}\")"
   ]
  },
  {
   "cell_type": "code",
   "execution_count": null,
   "id": "dabb6e34-e233-4745-98f1-b4fcba0c9ad2",
   "metadata": {},
   "outputs": [],
   "source": [
    "#Write a Python program to accept two numbers and check it for odd or even number.\n",
    "def odd_or_even(num):\n",
    "    if num % 2 == 0:\n",
    "        return \"Even\"\n",
    "    else:\n",
    "        return \"Odd\"\n",
    "n=int(input(\"enter number\"))\n",
    "print(\"number is \"+ odd_or_even(n))"
   ]
  },
  {
   "cell_type": "code",
   "execution_count": null,
   "id": "bc98507e-dda2-4a4e-b5ea-f7379712a554",
   "metadata": {},
   "outputs": [],
   "source": [
    "#Write a Python program to check whether the given no is Armstrong or not using user defined function.\n",
    "def is_armstrong(num):\n",
    "    order = 0\n",
    "    while num>0:\n",
    "        num//=10\n",
    "        order+=1\n",
    "    temp = num\n",
    "    sum = 0\n",
    "    while temp > 0:\n",
    "        digit = temp % 10\n",
    "        sum += digit ** order\n",
    "        temp //= 10\n",
    "    return num == sum\n",
    "if is_armstrong(153):\n",
    "    print(\"number is armstrong\")\n",
    "else:\n",
    "    print(\"number is armstrong\")"
   ]
  },
  {
   "cell_type": "code",
   "execution_count": null,
   "id": "fd55e2ad-3bf0-42a3-b9b8-351bc2b58570",
   "metadata": {},
   "outputs": [],
   "source": [
    "#Write a python program to demonstarte a function to print the number 1 to 5.\n",
    "def print_numbers(n):\n",
    "    for i in range(1, n+1):\n",
    "        print(i)\n",
    "n=int(input(\"enter number: \"))\n",
    "print(\"print number\",print_numbers(n))"
   ]
  },
  {
   "cell_type": "code",
   "execution_count": null,
   "id": "4c65ea60-6d40-4722-82f8-fca58a7afd4f",
   "metadata": {},
   "outputs": [],
   "source": [
    "#Write a Python Program to demonstarte a Simple Calculator using python functions.\n",
    "def add(a, b):\n",
    "    return a + b\n",
    "def subtract(a, b):\n",
    "    return a - b\n",
    "def multiply(a, b):\n",
    "    return a * b\n",
    "def divide(a, b):\n",
    "    if b == 0:\n",
    "        return \"Cannot divide by zero\"\n",
    "    else:\n",
    "        return a / b\n",
    "        \n",
    "a=int(input(\"enter number: \"))\n",
    "b=int(input(\"enter number: \"))\n",
    "op=input(\"enter sign + for add ,- for sub ,* for multipication ,/ for divison\")\n",
    "if op==\"+\":\n",
    "    print(add(a,b))\n",
    "elif op==\"-\" :\n",
    "    print(subtract(a, b))\n",
    "elif op==\"*\":\n",
    "    print(multiply(a, b))\n",
    "elif op==\"/\" :\n",
    "    print(divide(a, b))"
   ]
  },
  {
   "cell_type": "code",
   "execution_count": null,
   "id": "9f29e4e1-0ee8-481c-9f5d-67e05a3aaeee",
   "metadata": {},
   "outputs": [],
   "source": [
    "#Write a Python program to demonstrate the function of finding sum and average of first n natural numbers.\n",
    "def sum_and_average(n):\n",
    "    if n <= 0:\n",
    "        return \"Please enter a positive integer.\"\n",
    "    total = 0\n",
    "    count = 0\n",
    "    for i in range(1, n + 1):\n",
    "        total += i\n",
    "        count += 1\n",
    "    average = total / count\n",
    "    return total, average\n",
    "num = int(input(\"Enter a number to find sum and average of first n natural numbers: \"))\n",
    "result = sum_and_average(num)\n",
    "print(result)"
   ]
  },
  {
   "cell_type": "code",
   "execution_count": null,
   "id": "72aa5b2b-7efb-43dc-97d6-05359106ae10",
   "metadata": {},
   "outputs": [],
   "source": [
    "#Write a Python program to demonstrate the function of finding multiplication of first n natural numbers.\n",
    "def multiplication_of_natural_numbers(n):\n",
    "    result = 1\n",
    "    for i in range(1, n + 1):\n",
    "        result *= i\n",
    "    return result\n",
    "n=int(input(\"enter number: \"))\n",
    "print(f\"multiplication_of_natural_number ({n}):{multiplication_of_natural_numbers(n)}\")"
   ]
  },
  {
   "cell_type": "code",
   "execution_count": null,
   "id": "6eed2f9f-0d87-4059-b87c-e3465f42adca",
   "metadata": {},
   "outputs": [],
   "source": [
    "#Write a Python program to find reverse of given number using user defined function.\n",
    "def reverse_number(num):\n",
    "    reverse = 0\n",
    "    while num > 0:\n",
    "        remainder = num % 10\n",
    "        reverse = (reverse * 10) + remainder\n",
    "        num = num // 10\n",
    "    return reverse\n",
    "num=int(input(\"enter number: \"))\n",
    "print(\"reverse number is\",reverse_number(num))"
   ]
  },
  {
   "cell_type": "code",
   "execution_count": null,
   "id": "0fe7a585-c4ae-4262-a5d3-37c501f2ccda",
   "metadata": {},
   "outputs": [],
   "source": [
    "#Write your own python program for computing square roots that implements Newton’s Method. Use of inbuilt function, math library or x**0.5 is not allowed.\n",
    "def square_root_newton(x, iterations):\n",
    "    guess = x / 2\n",
    "    for i in range(iterations):\n",
    "        guess = (guess + x / guess) / 2\n",
    "        return guess\n",
    "x = float(input(\"Enter the number to find the square root of: \"))\n",
    "iterations = int(input(\"Enter the number of iterations: \"))\n",
    "result = square_root_newton(x, iterations)\n",
    "print(f\"The square root of {x} using Newton's method is approximately:{result}\")"
   ]
  },
  {
   "cell_type": "code",
   "execution_count": null,
   "id": "b4edfd3c-55aa-4f67-8b71-73ddc0ad81d8",
   "metadata": {},
   "outputs": [],
   "source": []
  }
 ],
 "metadata": {
  "kernelspec": {
   "display_name": "Python 3 (ipykernel)",
   "language": "python",
   "name": "python3"
  },
  "language_info": {
   "codemirror_mode": {
    "name": "ipython",
    "version": 3
   },
   "file_extension": ".py",
   "mimetype": "text/x-python",
   "name": "python",
   "nbconvert_exporter": "python",
   "pygments_lexer": "ipython3",
   "version": "3.13.5"
  }
 },
 "nbformat": 4,
 "nbformat_minor": 5
}
