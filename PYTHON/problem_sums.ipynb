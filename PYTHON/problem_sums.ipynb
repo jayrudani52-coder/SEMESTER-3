{
 "cells": [
  {
   "cell_type": "code",
   "execution_count": null,
   "id": "6c066190-4f40-40ed-80ef-ce22f9b27cf7",
   "metadata": {},
   "outputs": [],
   "source": [
    "#Write a python program that determines whether a student is eligible for PG course or not.To be eligible, the student must have obtained more than 80% in X and XII examination,and 70% plus marks in Graduation.If the student changes his stream (Science, Commerce, or Arts), then deduct 5% from his Graduation score.\n",
    "print(\"Welcome to PG eligibility checker\")\n",
    "a = int(input(\"Enter the percentage obtained in class X(Please enter without '%' symbol): \"))\n",
    "b = int(input(\"Enter the percentage obtained in class XII(Please enter without '%' symbol): \"))\n",
    "c = int(input(\"Enter the percentage obtained in class Graduation(Please enter without '%' symbol): \"))\n",
    "d = input(\"Stream selected for Graduation: \")\n",
    "e = input(\"Stream selecting for Post Graduation: \")\n",
    "if a > 80 and b > 80:\n",
    "    if d != e:\n",
    "        c = c-5\n",
    "    if c > 70:\n",
    "        print(\"Congratulation you are eligible to apply for PG in\",e,\".\")\n",
    "    else:\n",
    "        print(\"Sorry you are not eligible to apply for PG.\")\n",
    "else:\n",
    "    print(\"Sorry you are not eligible to apply for PG.\")"
   ]
  },
  {
   "cell_type": "code",
   "execution_count": null,
   "id": "b4839445-1cd2-453d-8e77-c18e0ff49d03",
   "metadata": {},
   "outputs": [],
   "source": [
    "#write a python program to calculate electricity bill based on following instructions.\n",
    "unit=int(input(\"Enter units: \"))\n",
    "if unit<0:\n",
    "    print(\"Enter correct value\")\n",
    "elif unit<=150:\n",
    "    bill=unit*3\n",
    "elif unit>150 and unit<=300:\n",
    "    bill=(unit*3)+(100+(unit-150)*3.75)\n",
    "elif unit>300 and unit<=450:\n",
    "    bill=(unit*3)+(100+(unit-150)*3.75)+(250+(unit-300)*4)\n",
    "elif unit>450 and unit<=600:\n",
    "    bill=(unit*3)+(100+(unit-150)*3.75)+(250+(unit-300)*4)+(300+(unit-450)*4.25)\n",
    "else:\n",
    "    bill=(unit*3)+(100+(unit-150)*3.75)+(250+(unit-300)*4)+(300+(unit-450)*4.25)+(400+(unit-600)*5)\n",
    "print(bill,\"Rs.\")"
   ]
  },
  {
   "cell_type": "code",
   "execution_count": null,
   "id": "49f19a37-6d12-4c6b-a6cb-6b8435594df2",
   "metadata": {},
   "outputs": [],
   "source": [
    "#Write a program to calculate parking fees. take input of entry time in hours and minute and exit time in hours and minutes.Parking rate for 3 hours will be: for Truck/bus-20Rs.\n",
    "vehicle=int(input(\"Enter 1--for Truck/bus, 2--for car, 3--for cycle/motorcycle/scooter: \"))\n",
    "enter_hr=int(input(\"enter hour in 12hr format: \"))\n",
    "enter_min=int(input(\"Enter min: \"))\n",
    "enter_am=input(\"Enter AM or PM: \")\n",
    "exit_hr=int(input(\"exit hour in 12 hr format: \"))\n",
    "exit_min=int(input(\"Exit min: \"))\n",
    "exit_am=input(\"Enter AM or PM: \")\n",
    "if enter_am!='AM' or enter_am!='PM' or exit_am!='AM' or exit_an!='PM':\n",
    "    print(\"Enter AM or PM\")\n",
    "else:\n",
    "    if enter_am=='PM' and enter_hr !=12:\n",
    "        enter_hr +=12\n",
    "    if exit_am=='PM' and exit_hr !=12:\n",
    "        exit_hr +=12\n",
    "    if enter_am=='AM' and enter_hr ==12:\n",
    "        enter_hr==0\n",
    "    if exit_am=='AM' and exit_hr==12:\n",
    "        exit_hr==0\n",
    "    if exit_hr==12 and enter_hr==12 and (exit_am != enter_am):\n",
    "        exit_hr+=12\n",
    "    if exit_hr<enter_hr:\n",
    "        exit_hr +=24\n",
    "    parking_time_hr=(exit_hr-enter_hr)\n",
    "    parking_time_min=(exit_min-enter_min)\n",
    "        \n",
    "    if parking_time_hr<3 or (parking_time_hr==3 and parking_time_min<=0):\n",
    "        if vehicle==1:\n",
    "            rate=20\n",
    "        elif vehicle==2:\n",
    "            rate=10\n",
    "        elif vehicle==3:\n",
    "            rate=5\n",
    "    elif parking_time_hr>3 or (parking_time_hr==3 and parking_time_min>0):\n",
    "        if vehicle==1:\n",
    "            rate=30\n",
    "        elif vehicle==2:\n",
    "            rate=20\n",
    "        elif vehicle==3:\n",
    "            rate=10\n",
    "    print(f\"Your parking charge is {rate}Rs.\")"
   ]
  },
  {
   "cell_type": "code",
   "execution_count": null,
   "id": "611f464f-b377-4e33-9581-9190dbfa4ed3",
   "metadata": {},
   "outputs": [],
   "source": [
    "#Calculate Maximum Even and Minimum Odd Numbers from User Entered Numbers “Write a Python program that prompts the user to enter numbers and stops only when the user enters “done”. After this, print the average of the numbers and the minimum odd number and the maximum even number from among all the numbers entered by the user.\n",
    "count=sum=0\n",
    "count_e=count_o=0\n",
    "while(True):\n",
    "    n=input(\"Enter Number or 'done' to stop\")\n",
    "    if n=='done':\n",
    "        break\n",
    "    n=int(n)\n",
    "    count+=1\n",
    "    if n%2==0 and count_e==0:\n",
    "        max_e=n\n",
    "        count_e+=1\n",
    "    if n%2!=0 and count_o==0:\n",
    "        min_o=n\n",
    "        count_o+=1\n",
    "    sum += n\n",
    "    if n%2==0 and n>max_e:\n",
    "        max_e=n\n",
    "    if n%2!=0 and n<min_o:\n",
    "        min_o=n\n",
    "print(\"Average:\",sum/count)\n",
    "print(\"Minimum Odd Number:\",min_o)\n",
    "print(\"Maximum Even Number\",max_e)"
   ]
  },
  {
   "cell_type": "code",
   "execution_count": null,
   "id": "9b434171-f79f-470b-b36a-6fbf096aca03",
   "metadata": {},
   "outputs": [],
   "source": [
    "#Find Sum of digits of a postitve integer until sum is in single digit.\n",
    "n=int(input(\"Enter any positive integer: \"))\n",
    "sum=0\n",
    "while (n!=0 or sum>9):\n",
    "    sum=sum+n%10\n",
    "    if n==0:\n",
    "        n=sum\n",
    "        sum=0\n",
    "    else:\n",
    "        n=n//10\n",
    "print(sum)"
   ]
  },
  {
   "cell_type": "code",
   "execution_count": null,
   "id": "47b2ca3e-026a-4526-9926-affdfc9f53c9",
   "metadata": {},
   "outputs": [],
   "source": [
    "#Python Program to Find All Pythagorean Triplets in the Range pythagorean triplets are the three numbers which follows pythagoros therom, a2+b2=c^2 –>then a,b,c is triplets.\n",
    "limit=int(input(\"Enter upper limit:\"))\n",
    "c=0\n",
    "m=2\n",
    "while(c<limit):\n",
    "    for n in range(1,m+1):\n",
    "        a=m*m-n*n\n",
    "        b=2*m*n\n",
    "        c=m*m+n*n\n",
    "        if(c>limit):\n",
    "            break\n",
    "        if(a==0 or b==0 or c==0):\n",
    "            break\n",
    "        print(a,b,c)\n",
    "    m=m+1"
   ]
  },
  {
   "cell_type": "code",
   "execution_count": null,
   "id": "0884b671-41f0-449d-a161-d480a38af124",
   "metadata": {},
   "outputs": [],
   "source": [
    "#find first max and second max.\n",
    "count=0\n",
    "f_h=-1\n",
    "s_h=-1\n",
    "while(True):\n",
    "    n=input(\"Enter marks or done\")\n",
    "    if n=='done':\n",
    "        break\n",
    "    n=int(n)\n",
    "    if n<0 or n>100:\n",
    "        continue\n",
    "    count+=1\n",
    "    if n>f_h:\n",
    "        s_h=f_h\n",
    "        f_h=n\n",
    "    elif n>s_h and n!=f_h:\n",
    "        s_h=n\n",
    "print(\"1st Maximum marks\",f_h)\n",
    "print(\"2nd Maximum marks\",s_h)"
   ]
  },
  {
   "cell_type": "code",
   "execution_count": null,
   "id": "0641c2b6-e187-4a6f-aa89-c410c2358c31",
   "metadata": {},
   "outputs": [],
   "source": [
    "#Add money in your pigi bank. Start from monday with Rs.1.increase Rs.1 every day. next monday start with Rs. 2 …follow same as…calculate money after 30 days\n",
    "sum=0\n",
    "d=int(input(\"enter day: \"))\n",
    "m=1\n",
    "sun=7\n",
    "s=d//7\n",
    "for i in range(s):\n",
    "    for j in range(m,sun+1):\n",
    "        sum+=j\n",
    "        m+=1\n",
    "        sun+=1\n",
    "for k in range(d%7):\n",
    "        sum=sum+m\n",
    "        m=m+1\n",
    "print(sum)"
   ]
  },
  {
   "cell_type": "code",
   "execution_count": null,
   "id": "878e64b7-6162-4312-8fda-c009da4faef0",
   "metadata": {},
   "outputs": [],
   "source": [
    "# A Disarium number is a number that is equal to the sum of its digits raised to the power of their respective positions.\n",
    "def calculate_length(n):\n",
    "    length = 0\n",
    "    while n > 0:\n",
    "        length += 1\n",
    "        n = n // 10\n",
    "    return length\n",
    "def is_disarium(num):\n",
    "    temp = num\n",
    "    length = calculate_length(temp)\n",
    "    sum_of_digits = 0\n",
    "    while temp > 0:\n",
    "        digit = temp % 10\n",
    "        sum_of_digits += digit ** length\n",
    "        length -= 1\n",
    "        temp = temp // 10\n",
    "    return sum_of_digits == num\n",
    "num = int(input(\"Enter a number: \"))\n",
    "if is_disarium(num):\n",
    "    print(f\"{num} is a Disarium number.\")\n",
    "else:\n",
    "    print(f\"{num} is not a Disarium number.\")"
   ]
  },
  {
   "cell_type": "code",
   "execution_count": null,
   "id": "354a683f-c84a-431e-991a-0f43988367e0",
   "metadata": {},
   "outputs": [],
   "source": [
    "#Python program to print all happy numbers between 1 and 100.\n",
    "for i in range(1,101):\n",
    "    sum=0\n",
    "    temp=i\n",
    "    while (i>0 or sum>9):\n",
    "        sum=sum+(i%10)**2\n",
    "        if i==0:\n",
    "            i=sum\n",
    "            sum=0\n",
    "        i//=10\n",
    "    if sum==1:\n",
    "        print(temp,end=\" \")"
   ]
  },
  {
   "cell_type": "code",
   "execution_count": null,
   "id": "87e8b066-a2a8-4032-be5a-7b66450900d0",
   "metadata": {},
   "outputs": [],
   "source": [
    "#HCF.\n",
    "x=12\n",
    "y=8\n",
    "if x > y:\n",
    "    smaller = y\n",
    "else:\n",
    "    smaller = x\n",
    "for i in range(1,smaller + 1):\n",
    "    if((x % i == 0) and (y % i == 0)):\n",
    "        hcf = i\n",
    "print(hcf)"
   ]
  },
  {
   "cell_type": "code",
   "execution_count": null,
   "id": "454f0210-d744-4a1c-bea2-e4e773a14170",
   "metadata": {},
   "outputs": [],
   "source": [
    "#LCM.\n",
    "x=12\n",
    "y=8\n",
    "if x > y:\n",
    "    greater = x\n",
    "else:\n",
    "    greater = y\n",
    "while(True):\n",
    "    if((greater % x == 0) and (greater % y == 0)):\n",
    "        lcm = greater\n",
    "        break\n",
    "    greater += 1\n",
    "print(lcm)"
   ]
  },
  {
   "cell_type": "code",
   "execution_count": null,
   "id": "536854ba-6e55-431a-8d67-bc78cce81699",
   "metadata": {},
   "outputs": [],
   "source": [
    "#WAP to calculateSimple and Compound Interest.\n",
    "principal = float(input('Enter amount: '))\n",
    "time = float(input('Enter time: '))\n",
    "rate = float(input('Enter rate: '))\n",
    "\n",
    "simple_interest = (principal*time*rate)/100\n",
    "compound_interest = principal * ( (1+rate/100)**time - 1)\n",
    "\n",
    "print('Simple interest is: %f' % (simple_interest))\n",
    "print('Compound interest is: %f' %(compound_interest))"
   ]
  },
  {
   "cell_type": "code",
   "execution_count": null,
   "id": "16f0a2f7-00fa-4776-a84b-298de900e0b8",
   "metadata": {},
   "outputs": [],
   "source": [
    "#Python Program to Read a Number n and Compute n+nn+nnn.\n",
    "n=int(input(\"Enter a number n: \"))\n",
    "temp=str(n)\n",
    "t1=temp+temp\n",
    "t2=temp+temp+temp\n",
    "comp=n+int(t1)+int(t2)\n",
    "print(\"The value is:\",comp)"
   ]
  },
  {
   "cell_type": "code",
   "execution_count": null,
   "id": "4d85ac48-a409-47c9-b22d-1cbca3fc70c7",
   "metadata": {},
   "outputs": [],
   "source": [
    "#Python Program to Find the Roots of a Quadratic Equation.\n",
    "print(\"Equation: ax^2 + bx + c \")\n",
    "a=int(input(\"Enter a: \"))\n",
    "b=int(input(\"Enter b: \"))\n",
    "c=int(input(\"Enter c: \"))\n",
    "d=b**2-4*a*c\n",
    "d1=d**0.5\n",
    "if(d<0):\n",
    "    print(\"The roots are imaginary. \")\n",
    "else:\n",
    "    r1=(-b+d1)/2*a\n",
    "    r2=(-b-d1)/2*a\n",
    "    print(\"The first root: \",round(r1,2))\n",
    "    print(\"The second root: \",round(r2,2))"
   ]
  },
  {
   "cell_type": "code",
   "execution_count": null,
   "id": "ee82935d-546d-4622-931f-35cab098b67c",
   "metadata": {},
   "outputs": [],
   "source": [
    "# Take three variables and get their values from the user. Without using any sorting functions or Python builtin data structures (lists, tuples, dictionaries, etc.), sort these numbers in ascending and descending orders\n",
    "a=int(input(\"Enter 1st No.: \"))\n",
    "b=int(input(\"Enter 2nd No.: \"))\n",
    "c=int(input(\"Enter 3rd No.: \"))\n",
    "\n",
    "if a<b and a<c:\n",
    "    if b<c:\n",
    "        x,y,z=a,b,c\n",
    "    else:\n",
    "        x,y,z=a,c,b\n",
    "elif b<a and b<c:\n",
    "    if a<c:\n",
    "        x,y,z=b,a,c\n",
    "    else:\n",
    "        x,y,z=b,c,a\n",
    "elif c<a and c<b:\n",
    "    if b<a:\n",
    "        x,y,z=c,b,a\n",
    "    else:\n",
    "        x,y,z=c,a,b\n",
    "else:\n",
    "    print(\"Enter correct input\")\n",
    "    \n",
    "print(\"Ascending Order:\",x,y,z)\n",
    "print(\"Descending Order:\",z,y,x)"
   ]
  },
  {
   "cell_type": "code",
   "execution_count": null,
   "id": "8479332d-01c4-4a5f-91de-6a38e5a02fbc",
   "metadata": {},
   "outputs": [],
   "source": [
    "#WAP to find prime numbers from a given range.\n",
    "for i in range(2,100):\n",
    "    flag=0\n",
    "    for j in range(2,i):\n",
    "        if i%j==0:\n",
    "            flag=1\n",
    "    if flag==0:\n",
    "        print(i,end=\" \")"
   ]
  },
  {
   "cell_type": "code",
   "execution_count": null,
   "id": "cd8d98a2-f0d0-4ac2-8256-7fac494fe50b",
   "metadata": {},
   "outputs": [],
   "source": [
    "#WAP to find prime factors of a given number by user.\n",
    "n=int(input(\"enter no.: \"))\n",
    "for i in range(2,n+1):\n",
    "    if n%i==0:\n",
    "        flag=0\n",
    "    for j in range(2,i):\n",
    "        if i%j==0:\n",
    "            flag=1\n",
    "    if flag==0:\n",
    "        print(i,end=\" \")"
   ]
  },
  {
   "cell_type": "code",
   "execution_count": null,
   "id": "60f21bb3-ad2f-44c8-9984-d2cf702447d0",
   "metadata": {},
   "outputs": [],
   "source": [
    "#WAP to check if a number is armstrong or not. No. is armstrong if 123..n=1n+2n+3^n….\n",
    "n=int(input(\"enter no.: \"))\n",
    "temp=n\n",
    "count=0\n",
    "while n != 0:\n",
    "    n //=10\n",
    "    count+=1\n",
    "n=temp\n",
    "sum=0\n",
    "while n !=0:\n",
    "    r=n%10\n",
    "    sum += r**count\n",
    "    n //=10\n",
    "if sum==temp:\n",
    "    print(\"Armstrong Number\")\n",
    "else:\n",
    "    print(\"Not Armstrong Number\")"
   ]
  },
  {
   "cell_type": "code",
   "execution_count": null,
   "id": "31b1173f-7635-4039-881a-d72995ea00d5",
   "metadata": {},
   "outputs": [],
   "source": [
    "#Python Program to Check if a Number is a Palindrome.\n",
    "n=int(input(\"Enter number:\"))\n",
    "temp=n\n",
    "rev=0\n",
    "while(n>0):\n",
    "    dig=n%10\n",
    "    rev=rev*10+dig\n",
    "    n=n//10\n",
    "if(temp==rev):\n",
    "    print(\"The number is a palindrome!\")\n",
    "else:\n",
    "    print(\"The number isn't a palindrome!\")"
   ]
  },
  {
   "cell_type": "code",
   "execution_count": null,
   "id": "6091c720-ef6a-48c3-bf65-5f5e997857dc",
   "metadata": {},
   "outputs": [],
   "source": [
    "#Python Program to Check Whether a Given Number is Perfect Number if sum of divisiors of the number=the number, it is known as perfect number for ex. 6= 1+2+3, so 6 is perfect number.\n",
    "n = int(input(\"Enter any number: \"))\n",
    "sum1 = 0\n",
    "for i in range(1, n):\n",
    "    if(n % i == 0):\n",
    "        sum1 = sum1 + i\n",
    "if (sum1 == n):\n",
    "    print(\"The number is a Perfect number!\")\n",
    "else:\n",
    "    print(\"The number is not a Perfect number!\")"
   ]
  },
  {
   "cell_type": "code",
   "execution_count": null,
   "id": "99b7a67e-83d0-478d-b746-470cf62fe0aa",
   "metadata": {},
   "outputs": [],
   "source": [
    "#Python Program to Check if a Number is a Strong Number if 123..n=1!+2!+3!+…+n!, then it is strong number.\n",
    "sum1=0\n",
    "num=int(input(\"Enter a number:\"))\n",
    "temp=num\n",
    "while(num):\n",
    "    i=1\n",
    "    f=1\n",
    "    r=num%10\n",
    "    while(i<=r):\n",
    "        f=f*i\n",
    "        i=i+1\n",
    "    sum1=sum1+f\n",
    "    num=num//10\n",
    "if(sum1==temp):\n",
    "    print(\"The number is a strong number\")\n",
    "else:\n",
    "    print(\"The number is not a strong number\")"
   ]
  },
  {
   "cell_type": "code",
   "execution_count": null,
   "id": "ba087b9e-cddb-4347-b6e0-ff48154eee6c",
   "metadata": {},
   "outputs": [],
   "source": [
    "#Python Program to Check If Two Numbers are Amicable Numbers or Not Find the sum of the proper divisors of both the numbers. Check if the sum of the proper divisors is equal to the opposite numbers.If they are equal, they are amicable numbers.\n",
    "x=int(input('Enter number 1: '))\n",
    "y=int(input('Enter number 2: '))\n",
    "sum1=0\n",
    "sum2=0\n",
    "for i in range(1,x):\n",
    "    if x%i==0:\n",
    "        sum1+=i\n",
    "for j in range(1,y):\n",
    "    if y%j==0:\n",
    "        sum2+=j\n",
    "if(sum1==y and sum2==x):\n",
    "    print('Amicable!')\n",
    "else:\n",
    "    print('Not Amicable!')"
   ]
  },
  {
   "cell_type": "code",
   "execution_count": null,
   "id": "bdda9bb1-18fa-482f-af25-b7572362e708",
   "metadata": {},
   "outputs": [],
   "source": [
    "#Python Program to Find the Sum of the Series: 1 + x^2/2 + x^3/3 + … x^n/n\n",
    "n=int(input(\"Enter the number of terms:\"))\n",
    "x=int(input(\"Enter the value of x:\"))\n",
    "sum1=1\n",
    "for i in range(2,n+1):\n",
    "    sum1=sum1+((x**i)/i)\n",
    "print(\"The sum of series is\",round(sum1,2))"
   ]
  },
  {
   "cell_type": "code",
   "execution_count": null,
   "id": "c4928887-48ba-4e5c-8d75-07316770342f",
   "metadata": {},
   "outputs": [],
   "source": [
    "# Python Program to Find the LCM of Two Numbers.\n",
    "a=int(input(\"Enter the first number:\"))\n",
    "b=int(input(\"Enter the second number:\"))\n",
    "if(a>b):\n",
    "    min1=a\n",
    "else:\n",
    "    min1=b\n",
    "while(1):\n",
    "    if(min1%a==0 and min1%b==0):\n",
    "        print(\"LCM is:\",min1)\n",
    "        break\n",
    "    min1=min1+1"
   ]
  },
  {
   "cell_type": "code",
   "execution_count": null,
   "id": "450fbe99-b0ed-4d32-bad5-619fca468039",
   "metadata": {},
   "outputs": [],
   "source": [
    "# Write a program to read a date from user and print the date of a next day. Also check if the entered date is correct or not.\n",
    "day=int(input(\"Enter date: \"))\n",
    "month=int(input(\"Enter month: \"))\n",
    "year=int(input(\"Enter year: \"))\n",
    "if month==12 and day==31:\n",
    "    month=1\n",
    "    year+=1\n",
    "    day=1\n",
    "elif (month==1 or month==3 or month==5 or month==7 or month==8 or month==10) and day==31:\n",
    "    month+=1\n",
    "    day=1\n",
    "elif (month==4 or month==6 or month==9 or month==11) and day==30:\n",
    "    month+=1\n",
    "    day=1\n",
    "elif month==2 and (day==28 or day==29):\n",
    "    if ((year % 400 == 0) or (year % 100 != 0) and (year % 4 == 0)):\n",
    "        if day==28:\n",
    "            day+=1\n",
    "        else:\n",
    "            day=1\n",
    "            month+=1\n",
    "    elif day==29:\n",
    "        day+=1\n",
    "    else:\n",
    "        day=1\n",
    "        month+=1\n",
    "else:\n",
    "    day+=1\n",
    "if 1<=day<=31 and 1<=month<=12 and month!=2:\n",
    "    print(day,\"/\",month,\"/\",year)\n",
    "elif month==2 and 1<=day<=29:\n",
    "    print(day,\"/\",month,\"/\",year)\n",
    "else:\n",
    "    print(\"enter correct date\")"
   ]
  },
  {
   "cell_type": "code",
   "execution_count": 2,
   "id": "8cc04334-455a-4752-8bd3-276c8589ab44",
   "metadata": {},
   "outputs": [
    {
     "name": "stdin",
     "output_type": "stream",
     "text": [
      "Enter a number:  3\n"
     ]
    },
    {
     "name": "stdout",
     "output_type": "stream",
     "text": [
      "1 0 0 \n",
      "0 1 0 \n",
      "0 0 1 \n"
     ]
    }
   ],
   "source": [
    "#WAP print identity matrix.\n",
    "n=int(input(\"Enter a number: \"))\n",
    "for i in range(0,n):\n",
    "    for j in range(0,n):\n",
    "        if(i==j):\n",
    "            print(\"1\",end=\" \")\n",
    "        else:\n",
    "            print(\"0\",end=\" \")\n",
    "    print()"
   ]
  },
  {
   "cell_type": "code",
   "execution_count": 3,
   "id": "2dc5dccd-5f05-47a4-99e4-fbdfe0def563",
   "metadata": {},
   "outputs": [
    {
     "name": "stdout",
     "output_type": "stream",
     "text": [
      "* * * *   \n",
      "*       * \n",
      "*       * \n",
      "* * * *   \n",
      "*       * \n",
      "*       * \n",
      "* * * *   \n"
     ]
    }
   ],
   "source": [
    "# B pattern.\n",
    "for row in range(7):\n",
    "    for col in range(5):\n",
    "        if (col==0) or (col==4 and (row!=0 and row!=3 and row!=6)) or ((row==0 or row==3 or row==6) and (col>0 and col<4)):\n",
    "            print(\"*\",end=\" \")\n",
    "        else:\n",
    "            print(\" \", end=\" \")\n",
    "    print()"
   ]
  },
  {
   "cell_type": "code",
   "execution_count": 5,
   "id": "4c0b1a05-2d84-4f8a-8d5e-d8fe0c14abf6",
   "metadata": {},
   "outputs": [
    {
     "name": "stdin",
     "output_type": "stream",
     "text": [
      "Enter a num:  6969965\n"
     ]
    },
    {
     "name": "stdout",
     "output_type": "stream",
     "text": [
      "5969966\n"
     ]
    }
   ],
   "source": [
    "#WAP swap first and last digit.\n",
    "n=int(input(\"Enter a num: \"))\n",
    "count=0\n",
    "temp=n\n",
    "while n!=0:\n",
    "    r=n%10\n",
    "    if count==0:\n",
    "        lastdigit=r\n",
    "    count+=1\n",
    "    n//=10\n",
    "firstdigit=r\n",
    "diff=firstdigit-lastdigit\n",
    "temp=temp+diff-diff*(10**(count-1))\n",
    "print(temp)"
   ]
  },
  {
   "cell_type": "code",
   "execution_count": 7,
   "id": "aa41c70a-98c7-4e5a-8d27-736968cf246b",
   "metadata": {},
   "outputs": [
    {
     "name": "stdin",
     "output_type": "stream",
     "text": [
      "Enter Test Score:  45\n",
      "Enter Test Score:  42\n",
      "Enter Test Score:  10\n",
      "Enter Test Score:  9\n",
      "Enter Test Score:  8\n",
      "Enter Test Score:  55\n",
      "Enter Test Score:  74\n",
      "Enter Test Score:  77\n",
      "Enter Test Score:  85\n",
      "Enter Test Score:  95\n"
     ]
    },
    {
     "name": "stdout",
     "output_type": "stream",
     "text": [
      "Highest Number is: 95\n",
      "Lowest Number is: 8\n",
      "Avergae Test Score is: 50.0\n",
      "Second Largest Number is: 85\n",
      "Average after dropping the two lowest scores: 60.375\n"
     ]
    }
   ],
   "source": [
    "#Problem Definition: Test Score Analysis Program You are tasked with writing a program that processes the test scores of 10 students, analyzing various aspects such as the highest score, second highest score, lowest score, and average score. The program also checks for invalid inputs where any score is greater than 100, flagging such cases.\n",
    "sum=0\n",
    "count=0\n",
    "highest=0\n",
    "lowest=100\n",
    "while count<10:\n",
    "    n=int(input(\"Enter Test Score: \"))\n",
    "    if n>100:\n",
    "        print(\"Entered score is more than hundered, so enter again\")\n",
    "        continue\n",
    "    count+=1\n",
    "    sum=sum+n\n",
    "    if n>highest:\n",
    "        second_largest=highest\n",
    "        highest=n\n",
    "    elif n>second_largest and n!=highest:\n",
    "        second_largest=n\n",
    "    if n<lowest:\n",
    "        second_lowest=lowest\n",
    "        lowest=n\n",
    "    elif n<second_lowest:\n",
    "        second_lowest=n\n",
    "new_sum=sum-(second_lowest+lowest)\n",
    "print(\"Highest Number is:\",highest)\n",
    "print(\"Lowest Number is:\",lowest)\n",
    "print(\"Avergae Test Score is:\",sum/count)\n",
    "print(\"Second Largest Number is:\",second_largest)\n",
    "print(\"Average after dropping the two lowest scores:\",new_sum/(count-2))"
   ]
  },
  {
   "cell_type": "code",
   "execution_count": null,
   "id": "2ce59e78-e289-460a-b046-558234bb2fc4",
   "metadata": {},
   "outputs": [],
   "source": []
  }
 ],
 "metadata": {
  "kernelspec": {
   "display_name": "Python 3 (ipykernel)",
   "language": "python",
   "name": "python3"
  },
  "language_info": {
   "codemirror_mode": {
    "name": "ipython",
    "version": 3
   },
   "file_extension": ".py",
   "mimetype": "text/x-python",
   "name": "python",
   "nbconvert_exporter": "python",
   "pygments_lexer": "ipython3",
   "version": "3.13.5"
  }
 },
 "nbformat": 4,
 "nbformat_minor": 5
}
