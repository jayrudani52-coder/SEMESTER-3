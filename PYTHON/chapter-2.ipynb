{
 "cells": [
  {
   "cell_type": "code",
   "execution_count": 1,
   "id": "0972d88d-c690-4706-97a3-e1c853231646",
   "metadata": {},
   "outputs": [
    {
     "name": "stdin",
     "output_type": "stream",
     "text": [
      "Enter a number:  20\n"
     ]
    },
    {
     "name": "stdout",
     "output_type": "stream",
     "text": [
      "Even\n"
     ]
    }
   ],
   "source": [
    "#Write a python program to check given number is odd or even using simple if.\n",
    "n=int(input(\"Enter a number: \"))\n",
    "if(n%2==0):\n",
    " print(\"Even\")\n",
    "if(n%2!=0):\n",
    " print(\"Odd\")"
   ]
  },
  {
   "cell_type": "code",
   "execution_count": 2,
   "id": "35e60b17-f1ff-4558-a475-d4d991b789e6",
   "metadata": {},
   "outputs": [
    {
     "name": "stdin",
     "output_type": "stream",
     "text": [
      "Enter a number:  13\n"
     ]
    },
    {
     "name": "stdout",
     "output_type": "stream",
     "text": [
      "Odd\n"
     ]
    }
   ],
   "source": [
    "#Write a python program to check given number is odd or even using if else.\n",
    "n=int(input(\"Enter a number: \"))\n",
    "if(n%2==0):\n",
    " print(\"Even\")\n",
    "else:\n",
    " print(\"Odd\")"
   ]
  },
  {
   "cell_type": "code",
   "execution_count": 3,
   "id": "9aa860f9-e4d7-4e0d-9e31-4aa388c65ba3",
   "metadata": {},
   "outputs": [
    {
     "name": "stdin",
     "output_type": "stream",
     "text": [
      "Enter year: 2025\n"
     ]
    },
    {
     "name": "stdout",
     "output_type": "stream",
     "text": [
      "This is not a leap year.\n"
     ]
    }
   ],
   "source": [
    "#Write a python program to check given year is leap year or not.\n",
    "y=int(input(\"Enter year:\"))\n",
    "if((y%4==0 and y%100!=0) or (y%400==0)):\n",
    " print(\"This is a leap year.\")\n",
    "else:\n",
    " print(\"This is not a leap year.\")"
   ]
  },
  {
   "cell_type": "code",
   "execution_count": 4,
   "id": "79ba7eb8-eb4a-4c4a-a2fc-faa930c8ef29",
   "metadata": {},
   "outputs": [
    {
     "name": "stdin",
     "output_type": "stream",
     "text": [
      "Enter number 1:  12\n",
      "Enter number 2:  23\n",
      "Enter number 3:  34\n"
     ]
    },
    {
     "name": "stdout",
     "output_type": "stream",
     "text": [
      "34 is max\n"
     ]
    }
   ],
   "source": [
    "#Find out max number among 3 numbers using elif ladder.\n",
    "a=int(input(\"Enter number 1: \"))\n",
    "b=int(input(\"Enter number 2: \"))\n",
    "c=int(input(\"Enter number 3: \"))\n",
    "if (a>b) and (a>c):\n",
    " print(a,\"is max\")\n",
    "elif(b>c):\n",
    " print(b,\"is max\")\n",
    "else:\n",
    " print(c,\"is max\")"
   ]
  },
  {
   "cell_type": "code",
   "execution_count": 6,
   "id": "822ef222-c24d-418f-a324-67c4910a9d56",
   "metadata": {},
   "outputs": [
    {
     "name": "stdin",
     "output_type": "stream",
     "text": [
      "Enter number 1:  10\n",
      "Enter number 2:  20\n",
      "Enter number 3:  30\n"
     ]
    },
    {
     "name": "stdout",
     "output_type": "stream",
     "text": [
      "30 is max\n"
     ]
    }
   ],
   "source": [
    "#Find out max number among 3 numbers using nested if.\n",
    "a=int(input(\"Enter number 1: \"))\n",
    "b=int(input(\"Enter number 2: \"))\n",
    "c=int(input(\"Enter number 3: \"))\n",
    "if (a>b):\n",
    " if (a>c):\n",
    "     print(a,\"is max\")\n",
    " else:\n",
    "     print(c,\"is max\")\n",
    "else:\n",
    "    if(b>c):\n",
    "        print(b,\"is max\")\n",
    "    else:\n",
    "        print(c,\"is max\")"
   ]
  },
  {
   "cell_type": "code",
   "execution_count": 9,
   "id": "987ee6b2-0196-4610-97de-3f4d1bed4838",
   "metadata": {},
   "outputs": [
    {
     "name": "stdin",
     "output_type": "stream",
     "text": [
      "Enter character:  a\n"
     ]
    },
    {
     "name": "stdout",
     "output_type": "stream",
     "text": [
      "Character is vowel\n"
     ]
    }
   ],
   "source": [
    "# check the given character is vowel or consonant.\n",
    "c=input(\"Enter character: \")\n",
    "if(c=='a' or c=='e' or c=='o' or c=='i' or c=='u' or c=='A' or c==\"E\" or c==\"I\" or c==\"O\" or c==\"U\"):\n",
    " print(\"Character is vowel\")\n",
    "else:\n",
    " print(\"Character is consonant\")"
   ]
  },
  {
   "cell_type": "code",
   "execution_count": 10,
   "id": "71d979ee-d008-45f6-afd2-6af0c24a5838",
   "metadata": {},
   "outputs": [
    {
     "name": "stdin",
     "output_type": "stream",
     "text": [
      "Enter number 1:  20\n",
      "Enter number 2:  10\n",
      "Enter choice of sign:  +\n"
     ]
    },
    {
     "name": "stdout",
     "output_type": "stream",
     "text": [
      "addition:  30\n"
     ]
    }
   ],
   "source": [
    "#write a python program to perform arithmatic(+,-,*,/,//,%,) operations according to the code.\n",
    "a=int(input(\"Enter number 1: \"))\n",
    "b=int(input(\"Enter number 2: \"))\n",
    "c=input(\"Enter choice of sign: \")\n",
    "if(c=='+'):\n",
    " print(\"addition: \",a+b)\n",
    "elif(c=='-'):\n",
    " print(\"subtraction: \",a-b)\n",
    "elif(c=='*'):\n",
    " print(\"multiplication: \",a*b)\n",
    "elif(c=='/'):\n",
    " print(\"division: \",a/b)\n",
    "elif(c=='//'):\n",
    " print(\"floor division: \",a//b)\n",
    "elif(c=='%'):\n",
    " print(\"modulo: \",a%b)\n",
    "else:\n",
    " print(\"Enter correct choice of operation\")"
   ]
  },
  {
   "cell_type": "code",
   "execution_count": 12,
   "id": "73c7a961-3fb2-4135-8eae-0bd1f86924a1",
   "metadata": {},
   "outputs": [
    {
     "name": "stdin",
     "output_type": "stream",
     "text": [
      "Enter marks out of 100:  10\n"
     ]
    },
    {
     "name": "stdout",
     "output_type": "stream",
     "text": [
      "Fail\n"
     ]
    }
   ],
   "source": [
    "# Write a python program to read marks from user and give grade according to following marks grade 100-80 distinction,60-79 first class,35-59 second class,0-34 fail.\n",
    "a=int(input(\"Enter marks out of 100: \"))\n",
    "if(a>=80 and a<=100):\n",
    " print(\"Distinction\")\n",
    "elif(a<=79 and a>=60):\n",
    " print(\"First class\")\n",
    "elif(a<=59 and a>=35):\n",
    " print(\"Second class\")\n",
    "else:\n",
    " print(\"Fail\")"
   ]
  },
  {
   "cell_type": "code",
   "execution_count": 13,
   "id": "260b5dda-91df-4aad-80b4-7fc7d8acfa05",
   "metadata": {},
   "outputs": [
    {
     "name": "stdin",
     "output_type": "stream",
     "text": [
      "Enter number:  -52\n"
     ]
    },
    {
     "name": "stdout",
     "output_type": "stream",
     "text": [
      "negative\n"
     ]
    }
   ],
   "source": [
    "#Write a python program to check the given number is positive,negative or zero.\n",
    "a=int(input(\"Enter number: \"))\n",
    "if(a==0):\n",
    " print(\"zero\")\n",
    "elif(a>0):\n",
    " print(\"positive\")\n",
    "else:\n",
    " print(\"negative\")"
   ]
  },
  {
   "cell_type": "code",
   "execution_count": 14,
   "id": "ff82bef4-d976-41ba-9ea1-8d0d6dfb7624",
   "metadata": {},
   "outputs": [
    {
     "name": "stdin",
     "output_type": "stream",
     "text": [
      "Enter attendance:  75\n"
     ]
    },
    {
     "name": "stdout",
     "output_type": "stream",
     "text": [
      "Your Bonus marks:  11.25\n"
     ]
    }
   ],
   "source": [
    "# Write a python program to enter attendance of student in percentage and print bonus marks 15% if attendance is greater than 70%.\n",
    "a=float(input(\"Enter attendance: \"))\n",
    "if(a>70):\n",
    " print(\"Your Bonus marks: \",a*15/100)\n",
    "else:\n",
    " print(\"You are not eligible for bonus marks.\")"
   ]
  },
  {
   "cell_type": "code",
   "execution_count": 15,
   "id": "61cdf5e6-e71c-4051-ad87-101c01b87eea",
   "metadata": {},
   "outputs": [
    {
     "name": "stdin",
     "output_type": "stream",
     "text": [
      "enter marks for subject1:  50\n",
      "enter marks for subject2:  50\n",
      "enter marks for subject3:  50\n"
     ]
    },
    {
     "name": "stdout",
     "output_type": "stream",
     "text": [
      "Give choice.\n",
      " 1.total 2.Average 3.Credit\n"
     ]
    },
    {
     "name": "stdin",
     "output_type": "stream",
     "text": [
      "Enter choice:  1\n"
     ]
    },
    {
     "name": "stdout",
     "output_type": "stream",
     "text": [
      "Total= 150\n"
     ]
    }
   ],
   "source": [
    "#Write a python program to enter three subject marks and get total ,average and credits.\n",
    "s1=int(input(\"enter marks for subject1: \"))\n",
    "s2=int(input(\"enter marks for subject2: \"))\n",
    "s3=int(input(\"enter marks for subject3: \"))\n",
    "print(\"Give choice.\\n 1.total 2.Average 3.Credit\")\n",
    "c=int(input(\"Enter choice: \"))\n",
    "if(c==1):\n",
    " print(\"Total=\",s1+s2+s3)\n",
    "elif(c==2):\n",
    " print(\"Average=\",(s1+s2+s3)/3)\n",
    "elif(c==3):\n",
    " print(\"Credit for s1=5\\n Credit for s2=7\\n Credit for S3=9\")\n",
    "else:\n",
    " print(\"Enter correct choice.\")"
   ]
  },
  {
   "cell_type": "code",
   "execution_count": 16,
   "id": "6cbd3a48-dd1c-4ac2-8455-bb9e5b923937",
   "metadata": {},
   "outputs": [
    {
     "name": "stdin",
     "output_type": "stream",
     "text": [
      "Enter number1: 50\n",
      "Enter number2: 50\n",
      "Enter Choice: 5\n"
     ]
    },
    {
     "name": "stdout",
     "output_type": "stream",
     "text": [
      "Reminder is : 0\n"
     ]
    }
   ],
   "source": [
    "# Write a python program take two numbers and choice of operation from user.\n",
    "#Result of operation should be displayed based on the choice of user as shown below:\n",
    "#1.Addition 2.Subtraction 3.Multiplication 4.Division 5.Modulo\n",
    "#If user enter any other choice other than mentioned then it should display “Invalid choice\".\n",
    "num1 = int(input(\"Enter number1:\"))\n",
    "num2 = int(input(\"Enter number2:\"))\n",
    "choice = int(input(\"Enter Choice:\"))\n",
    "if choice == 1:\n",
    " print(\"Addition is :\", num1+num2)\n",
    "elif choice == 2:\n",
    " print(\"Subtraction is :\", num1-num2)\n",
    "elif choice == 3:\n",
    " print(\"Multiplication is :\", num1*num2)\n",
    "elif choice == 4:\n",
    " print(\"Division is :\", num1/num2)\n",
    "elif choice == 5:\n",
    " print(\"Remainder is :\", num1%num2)\n",
    "else:\n",
    " print(\"Invalid choice\")"
   ]
  },
  {
   "cell_type": "code",
   "execution_count": 17,
   "id": "3692a756-b7ad-47d8-9bf1-ae4c102b64f0",
   "metadata": {},
   "outputs": [
    {
     "name": "stdin",
     "output_type": "stream",
     "text": [
      "Enter a number:  14\n"
     ]
    },
    {
     "name": "stdout",
     "output_type": "stream",
     "text": [
      "14 is divisible by 7\n"
     ]
    }
   ],
   "source": [
    "#Write a program to check whether a number is divisible by 7 or not.\n",
    "x = int(input(\"Enter a number: \"))\n",
    "if(x% 7 == 0):\n",
    " print(x, \"is divisible by 7\")\n",
    "else:\n",
    " print(x, \"is not divisible by 7\")"
   ]
  },
  {
   "cell_type": "code",
   "execution_count": 18,
   "id": "cf7f73e8-ec2e-454a-967e-7874d54d4830",
   "metadata": {},
   "outputs": [
    {
     "name": "stdin",
     "output_type": "stream",
     "text": [
      "Enter unit:  100\n"
     ]
    },
    {
     "name": "stdout",
     "output_type": "stream",
     "text": [
      "Amount to pay : 0\n"
     ]
    }
   ],
   "source": [
    "#Write a program to calculate the electricity bill (accept number of unit from user)\n",
    "# Unit Price\n",
    "# First 100 unit no charge\n",
    "# Next 100 units Rs 5 per unit\n",
    "# After 200 units Rs 10 per unit\n",
    "# (For example if input unit is 350 than total bill amount is Rs2000)\n",
    "amt=0\n",
    "num=int(input(\"Enter unit: \"))\n",
    "if num<=100:\n",
    " amt=0\n",
    "if num>100 and num<=200:\n",
    " amt=(num-100)*5\n",
    "if num>200:\n",
    " amt=500+(num-200)*10\n",
    "print(\"Amount to pay :\",amt)"
   ]
  },
  {
   "cell_type": "code",
   "execution_count": 19,
   "id": "3976f5d7-ac97-40fb-8939-3afa93f0a2d7",
   "metadata": {},
   "outputs": [
    {
     "name": "stdin",
     "output_type": "stream",
     "text": [
      "Enter number:  36\n"
     ]
    },
    {
     "name": "stdout",
     "output_type": "stream",
     "text": [
      "6  is divisible by 3 \n"
     ]
    }
   ],
   "source": [
    "#Write a program to check whether the last digit of a number( entered by user ) is divisible by 3 or not.\n",
    "num=int(input(\"Enter number: \"))\n",
    "ld=num%10\n",
    "if ld%3==0:\n",
    " print(ld,\" is divisible by 3 \")\n",
    "else:\n",
    " print(ld,\"is not divisible by 3 \")"
   ]
  },
  {
   "cell_type": "code",
   "execution_count": 20,
   "id": "c4f5ecb3-9bd3-411a-b04c-8e8417b0ef3e",
   "metadata": {},
   "outputs": [
    {
     "name": "stdin",
     "output_type": "stream",
     "text": [
      "Enter percentage:  100\n"
     ]
    },
    {
     "name": "stdout",
     "output_type": "stream",
     "text": [
      "Grade is A\n"
     ]
    }
   ],
   "source": [
    "#Write a program to accept percentage from the user and display the grade according Percentage Grade : >90 then A ,> 80 and <= 90 then B ,>= 60 and <= 80 then C ,below 60 then D.\n",
    "per = int(input(\"Enter percentage: \"))\n",
    "if per > 90 and per<=100:\n",
    " print(\"Grade is A\")\n",
    "if per > 80 and per <=90:\n",
    " print(\"Grade is B\")\n",
    "if per >=60 and per <= 80:\n",
    " print(\"Grade is C\")\n",
    "if per < 60:\n",
    " print(\"Grade is D\")"
   ]
  },
  {
   "cell_type": "code",
   "execution_count": 21,
   "id": "73c65564-b854-4c23-b867-d30f1efa2c55",
   "metadata": {},
   "outputs": [
    {
     "name": "stdin",
     "output_type": "stream",
     "text": [
      "Enter the price of bike:  25000\n"
     ]
    },
    {
     "name": "stdout",
     "output_type": "stream",
     "text": [
      "Tax to be paid  1250.0\n"
     ]
    }
   ],
   "source": [
    "#Write a program to accept the cost price of a bike and display the road tax to be priced if Cost price (in Rs) Tax: > 100000 then 15 % ,> 50000 and <= 100000 then 10% ,<= 50000 then 5%.\n",
    "tax = 0\n",
    "pr=int(input(\"Enter the price of bike: \"))\n",
    "if pr > 100000:\n",
    " tax = pr*15/100\n",
    "elif pr > 50000 and pr <= 100000:\n",
    " tax = pr*10/100\n",
    "else:\n",
    " tax = pr*5/100\n",
    "print(\"Tax to be paid \",tax)"
   ]
  },
  {
   "cell_type": "code",
   "execution_count": null,
   "id": "41cf271c-57e5-487d-96df-2fdc5285ab25",
   "metadata": {},
   "outputs": [],
   "source": [
    "#Write a program to check whether a number entered is three digit number or not, if\n",
    "#then display the middle digit.\n",
    "num1 = int(input(\"Enter number: \"))\n",
    "l=len(str(num1))\n",
    "if l != 3:\n",
    " print(\"Enter three digit number\")\n",
    "else:\n",
    " print(\"Middle digit is \",(((num1)%100)//10))"
   ]
  },
  {
   "cell_type": "code",
   "execution_count": 23,
   "id": "8994dafa-eca7-4d83-9146-e1c54c28ee3c",
   "metadata": {},
   "outputs": [
    {
     "name": "stdin",
     "output_type": "stream",
     "text": [
      "Enter total number of working days=  45\n",
      "Enter number of days absent=  10\n"
     ]
    },
    {
     "name": "stdout",
     "output_type": "stream",
     "text": [
      "Your attendance is  77.77777777777779\n",
      "You are eligible for exam\n"
     ]
    }
   ],
   "source": [
    "#Accept the following from the user and calculate the percentage of class attended:\n",
    "# a.Total number of working days\n",
    "# b.Total number of days for absent\n",
    "# After calculating percentage show that, If the percentage is less than 75, than student is not eligible for exam.\n",
    "nd = int(input(\"Enter total number of working days= \"))\n",
    "na = int(input(\"Enter number of days absent= \"))\n",
    "per=(nd-na)/nd*100\n",
    "print(\"Your attendance is \",per)\n",
    "if per<75 :\n",
    " print(\"You are not eligible for exam\")\n",
    "else:\n",
    " print(\"You are eligible for exam\")"
   ]
  },
  {
   "cell_type": "code",
   "execution_count": 24,
   "id": "587609de-f333-4174-9f29-56891f167b8f",
   "metadata": {},
   "outputs": [
    {
     "name": "stdin",
     "output_type": "stream",
     "text": [
      "Enter first side of triangle:  12\n",
      "Enter second side of triangle:  12\n",
      "Enter third side of triangle:  10\n"
     ]
    },
    {
     "name": "stdout",
     "output_type": "stream",
     "text": [
      "Isosceles Triangle\n"
     ]
    }
   ],
   "source": [
    "#Accept three sides of a triangle and check whether it is an equilateral, isosceles or scalene triangle.\n",
    "# An equilateral triangle is a triangle in which all three sides are equal.\n",
    "# A scalene triangle is a triangle that has three unequal sides.\n",
    "# An isosceles triangle is a triangle with (at least) two equal sides.\n",
    "s1=int(input(\"Enter first side of triangle: \"))\n",
    "s2=int(input(\"Enter second side of triangle: \"))\n",
    "s3=int(input(\"Enter third side of triangle: \"))\n",
    "if s1==s2 and s2 == s3:\n",
    " print(\"Equilateral triangle\")\n",
    "if (s1==s2 and s2!=s3) or (s2==s3 and s2!=s1) or (s1==s3 and s1!=s2):\n",
    " print(\"Isosceles Triangle\")\n",
    "if s1!=s2 and s1!=s3 and s2!=s3:\n",
    " print(\"Scalene Triangle\")"
   ]
  },
  {
   "cell_type": "code",
   "execution_count": 27,
   "id": "a246aa7b-e2e0-4367-a9c4-4afb7e2d00ae",
   "metadata": {},
   "outputs": [
    {
     "name": "stdout",
     "output_type": "stream",
     "text": [
      "0\n",
      "1\n",
      "2\n",
      "3\n",
      "4\n",
      "5\n"
     ]
    }
   ],
   "source": [
    "#Demostrate range function\n",
    "for i in range (6):\n",
    "    print(i)"
   ]
  },
  {
   "cell_type": "code",
   "execution_count": null,
   "id": "6079b608-dfc5-45db-acee-83805736cba1",
   "metadata": {},
   "outputs": [],
   "source": [
    "for i in range (1,6):\n",
    "    print(i)"
   ]
  },
  {
   "cell_type": "code",
   "execution_count": null,
   "id": "4d6fc916-29e9-45a0-a080-c289f8e90c71",
   "metadata": {},
   "outputs": [],
   "source": [
    "for i in range (1,6,1):\n",
    "    print(i)"
   ]
  },
  {
   "cell_type": "code",
   "execution_count": null,
   "id": "45e81e19-fa4e-4f3b-917e-49c3f2556e18",
   "metadata": {},
   "outputs": [],
   "source": [
    "for i in range (1,6,2):\n",
    "    print(i)"
   ]
  },
  {
   "cell_type": "code",
   "execution_count": null,
   "id": "8697f305-c2fd-447c-90b2-74e40bde68da",
   "metadata": {},
   "outputs": [],
   "source": [
    "#reverse number\n",
    "for i in range (6,1,-1):\n",
    "    print(i)"
   ]
  },
  {
   "cell_type": "code",
   "execution_count": null,
   "id": "9e9aa7ab-90eb-4198-a025-29f8153e22f1",
   "metadata": {},
   "outputs": [],
   "source": [
    "#To print characters present in given string.\n",
    "s=\"WELCOME TO LJU\"\n",
    "for i in s:\n",
    "    print(i)"
   ]
  },
  {
   "cell_type": "code",
   "execution_count": null,
   "id": "81fcdc3f-8c56-4dad-ac15-505de1741398",
   "metadata": {},
   "outputs": [],
   "source": [
    "s=\"WELCOME TO LJU\"\n",
    "for i in s:\n",
    "    print(i,end=\"\")"
   ]
  },
  {
   "cell_type": "code",
   "execution_count": null,
   "id": "5baf2a88-2c2a-4b00-b0b4-5dadb94fb783",
   "metadata": {},
   "outputs": [],
   "source": [
    "#print \"HELLO\" 5 times\n",
    "for i in range(5):\n",
    "    print(\"HELLO\",end=\" \")"
   ]
  },
  {
   "cell_type": "code",
   "execution_count": 28,
   "id": "f2c912ad-4733-4278-9886-039c6924a4b7",
   "metadata": {},
   "outputs": [
    {
     "name": "stdout",
     "output_type": "stream",
     "text": [
      "1\n",
      "2\n",
      "3\n",
      "4\n",
      "5\n"
     ]
    }
   ],
   "source": [
    "#print 1 to 5 using while loop.\n",
    "x=1\n",
    "while x<=5:\n",
    "    print(x)\n",
    "    x=x+1"
   ]
  },
  {
   "cell_type": "code",
   "execution_count": null,
   "id": "e786a190-f46a-4d23-981c-1c5efb194d56",
   "metadata": {},
   "outputs": [],
   "source": [
    "#print 1 to 5 using while loop.\n",
    "x=1\n",
    "while x<=5:\n",
    "    print(x,end=\" \")\n",
    "    x=x+1"
   ]
  },
  {
   "cell_type": "code",
   "execution_count": 33,
   "id": "2c3e6a3d-adbe-42de-b62f-b575c9bbfa52",
   "metadata": {},
   "outputs": [
    {
     "name": "stdout",
     "output_type": "stream",
     "text": [
      "0\n",
      "1\n",
      "2\n",
      "3\n",
      "4\n",
      "5\n",
      "6\n",
      "Processing is enough, plz break\n"
     ]
    }
   ],
   "source": [
    "#break statement.\n",
    "for i in range(10):\n",
    "    if i==7:\n",
    "        print(\"Processing is enough, plz break\")\n",
    "        break\n",
    "    print(i)"
   ]
  },
  {
   "cell_type": "code",
   "execution_count": 35,
   "id": "dc0bf577-5ed5-4cce-b4df-940765fc372b",
   "metadata": {},
   "outputs": [
    {
     "name": "stdout",
     "output_type": "stream",
     "text": [
      "1\n",
      "3\n",
      "5\n",
      "7\n",
      "9\n"
     ]
    }
   ],
   "source": [
    "#continue statement.\n",
    "for i in range(10):\n",
    "    if i%2==0:\n",
    "        continue\n",
    "    print(i)"
   ]
  },
  {
   "cell_type": "code",
   "execution_count": null,
   "id": "a39a8eaf-90e5-4358-865c-85b6426303df",
   "metadata": {},
   "outputs": [],
   "source": [
    "#continue statement.\n",
    "for i in range(10):\n",
    "    if i%2!=0:\n",
    "        continue\n",
    "    print(i)"
   ]
  },
  {
   "cell_type": "code",
   "execution_count": null,
   "id": "945c3444-c400-4c7e-9d82-6db8a67eacc8",
   "metadata": {},
   "outputs": [],
   "source": [
    "#pass statement.\n",
    "for i in range(10):\n",
    "    if i%3==0:\n",
    "        print(i)\n",
    "    else:\n",
    "        print(i)"
   ]
  },
  {
   "cell_type": "code",
   "execution_count": 36,
   "id": "52e9d775-6158-40e4-a36b-66f31cf30694",
   "metadata": {},
   "outputs": [
    {
     "name": "stdin",
     "output_type": "stream",
     "text": [
      " Enter number upto which you want sum:  25\n"
     ]
    },
    {
     "name": "stdout",
     "output_type": "stream",
     "text": [
      "sum=  325\n"
     ]
    }
   ],
   "source": [
    "#Write a python program to find sum of N numbers.\n",
    "n=int(input(\" Enter number upto which you want sum: \"))\n",
    "sum=0\n",
    "for i in range(1,n+1):\n",
    "    sum=sum+i\n",
    "print(\"sum= \",sum) "
   ]
  },
  {
   "cell_type": "code",
   "execution_count": 37,
   "id": "ace5696d-1eae-425f-9205-9ed22218899b",
   "metadata": {},
   "outputs": [
    {
     "name": "stdin",
     "output_type": "stream",
     "text": [
      " Enter number upto which you want Average:  25\n"
     ]
    },
    {
     "name": "stdout",
     "output_type": "stream",
     "text": [
      "Average=  13.0\n"
     ]
    }
   ],
   "source": [
    "#Write a python program to find average of N numbers.\n",
    "n=int(input(\" Enter number upto which you want Average: \"))\n",
    "sum=0\n",
    "for i in range(1,n+1):\n",
    "    sum=sum+i\n",
    "print(\"Average= \",sum/n) "
   ]
  },
  {
   "cell_type": "code",
   "execution_count": 39,
   "id": "1f68c990-7a29-4410-bd26-d9df231dd040",
   "metadata": {},
   "outputs": [
    {
     "name": "stdout",
     "output_type": "stream",
     "text": [
      "0\n",
      "1\n",
      "2\n",
      "4\n",
      "5\n"
     ]
    }
   ],
   "source": [
    "#write a python program to print numbers from 0 to 6 except 3 and 6.\n",
    "for i in range(0,7):\n",
    "    if(i==3 or i==6):\n",
    "        continue\n",
    "    else:\n",
    "        print(i)"
   ]
  },
  {
   "cell_type": "code",
   "execution_count": 40,
   "id": "2d0c42bb-bdfe-4463-9da0-fcb35779cc95",
   "metadata": {},
   "outputs": [
    {
     "name": "stdin",
     "output_type": "stream",
     "text": [
      "Enter number for which you want table:  5\n"
     ]
    },
    {
     "name": "stdout",
     "output_type": "stream",
     "text": [
      "5 * 1 = 5\n",
      "5 * 2 = 10\n",
      "5 * 3 = 15\n",
      "5 * 4 = 20\n",
      "5 * 5 = 25\n",
      "5 * 6 = 30\n",
      "5 * 7 = 35\n",
      "5 * 8 = 40\n",
      "5 * 9 = 45\n",
      "5 * 10 = 50\n"
     ]
    }
   ],
   "source": [
    "#print multiplication table.\n",
    "n=int(input(\"Enter number for which you want table: \"))\n",
    "i=1\n",
    "while(i<=10):\n",
    " print(n,\"*\",i,\"=\",n*i)\n",
    " i=i+1"
   ]
  },
  {
   "cell_type": "code",
   "execution_count": null,
   "id": "ccca96d8-12e0-4f87-a87d-3a9a7b851b57",
   "metadata": {},
   "outputs": [],
   "source": [
    "#find factorial of given number\n",
    "n=int(input(\"Enter the number :\"))\n",
    "factorial=1\n",
    "if(n<0):\n",
    " print(\"Negative numbers are not allowed.\")\n",
    "elif n==1 and n==0:\n",
    " print(\"factorial= \",factorial)\n",
    "else:\n",
    " for i in range(2,n+1):\n",
    " factorial=factorial*i\n",
    " print(\"Factorial of number\",n,\"is \",factorial) \n"
   ]
  },
  {
   "cell_type": "code",
   "execution_count": 44,
   "id": "c09eb621-56e9-4b32-b96b-79bc178db14b",
   "metadata": {},
   "outputs": [
    {
     "name": "stdin",
     "output_type": "stream",
     "text": [
      "Enter the how many terms required for fibonaci sequence :  3\n"
     ]
    },
    {
     "name": "stdout",
     "output_type": "stream",
     "text": [
      "Fibonaci sequence:\n",
      "0\n",
      "1\n",
      "1\n"
     ]
    }
   ],
   "source": [
    "#Write a python program to display fibonaci sequence up to n-th term.\n",
    "n=int(input(\"Enter the how many terms required for fibonaci sequence : \"))\n",
    "n1=0\n",
    "n2=1\n",
    "if(n<=0):\n",
    "    print(\"Enter positive integer. \")\n",
    "elif(n==1):\n",
    "    print(\"Fibonaci sequence:\" ,n1)\n",
    "else:\n",
    "    print(\"Fibonaci sequence:\" )\n",
    "    print(n1)\n",
    "    print(n2)\n",
    "    \n",
    "    for i in range(n-2):\n",
    "        nth=n1+n2\n",
    "        print(nth)\n",
    "        n1=n2\n",
    "        n2=nth"
   ]
  },
  {
   "cell_type": "code",
   "execution_count": 46,
   "id": "bdf6dc9e-6799-4f5f-b2e8-24b8ff050cdf",
   "metadata": {},
   "outputs": [
    {
     "name": "stdout",
     "output_type": "stream",
     "text": [
      "Enter 10 numbers: \n"
     ]
    },
    {
     "name": "stdin",
     "output_type": "stream",
     "text": [
      " 1\n",
      " 2\n",
      " 3\n",
      " 4\n",
      " 5\n",
      " 6\n",
      " 7\n",
      " 8\n",
      " 9\n",
      " 10\n"
     ]
    },
    {
     "name": "stdout",
     "output_type": "stream",
     "text": [
      "sum of 10 numbers:  55\n",
      "average of 10 numbers:  5.5\n"
     ]
    }
   ],
   "source": [
    "#Write a python program to take 10 numbers from user and print their sum and average.\n",
    "sum=0\n",
    "print(\"Enter 10 numbers: \")\n",
    "for i in range(10):\n",
    "    a=int(input())\n",
    "    sum=sum+a\n",
    "print(\"sum of 10 numbers: \",sum)\n",
    "print(\"average of 10 numbers: \",sum/10)"
   ]
  },
  {
   "cell_type": "code",
   "execution_count": 47,
   "id": "22525b76-d615-43a0-84ef-a93f9a78b329",
   "metadata": {},
   "outputs": [
    {
     "name": "stdin",
     "output_type": "stream",
     "text": [
      "Enter number:  123\n"
     ]
    },
    {
     "name": "stdout",
     "output_type": "stream",
     "text": [
      "Reverse number:  321\n"
     ]
    }
   ],
   "source": [
    "# Write a python program to find reverse number provided by user.\n",
    "n=int(input(\"Enter number: \"))\n",
    "rev_num=0\n",
    "while n!=0:\n",
    "    digit=n%10\n",
    "    rev_num=rev_num*10+digit\n",
    "    n=n//10\n",
    "print(\"Reverse number: \",rev_num)"
   ]
  },
  {
   "cell_type": "code",
   "execution_count": 51,
   "id": "3fd607d4-9f1f-4c09-8b6e-e600d0a06f6a",
   "metadata": {},
   "outputs": [
    {
     "name": "stdin",
     "output_type": "stream",
     "text": [
      "Enter number:  121\n"
     ]
    },
    {
     "name": "stdout",
     "output_type": "stream",
     "text": [
      "Reverse number:  121\n",
      "Number is pallindrome.\n"
     ]
    }
   ],
   "source": [
    "#Write a python program to check given number is pallindrome or not.(16361=16361).\n",
    "n=int(input(\"Enter number: \"))\n",
    "rev_num=0\n",
    "temp=n\n",
    "while n!=0:\n",
    "    digit=n%10\n",
    "    rev_num=rev_num*10+digit\n",
    "    n=n//10\n",
    "print(\"Reverse number: \",rev_num)\n",
    "\n",
    "if(rev_num==temp):\n",
    "    print(\"Number is pallindrome.\")\n",
    "else:\n",
    "    print(\"Number is not pallindrome.\")"
   ]
  },
  {
   "cell_type": "code",
   "execution_count": 54,
   "id": "092e3cc4-8263-4212-be34-6904f631e46a",
   "metadata": {},
   "outputs": [
    {
     "name": "stdin",
     "output_type": "stream",
     "text": [
      "Enter number:  23\n"
     ]
    },
    {
     "name": "stdout",
     "output_type": "stream",
     "text": [
      "Sum of digits:  5\n"
     ]
    }
   ],
   "source": [
    "# Write a python program to find sum of digits.\n",
    "n=int(input(\"Enter number: \"))\n",
    "sum=0\n",
    "while n!=0:\n",
    "    digit=n%10\n",
    "    sum=sum+digit\n",
    "    n=n//10\n",
    "print(\"Sum of digits: \",sum) "
   ]
  },
  {
   "cell_type": "code",
   "execution_count": 59,
   "id": "7845634b-184c-4e92-a15c-56fbec3c9c29",
   "metadata": {},
   "outputs": [
    {
     "name": "stdin",
     "output_type": "stream",
     "text": [
      "Enter n:  5\n",
      "enter start range:  0\n",
      "enter end range:  4\n"
     ]
    },
    {
     "name": "stdout",
     "output_type": "stream",
     "text": [
      "0\n"
     ]
    }
   ],
   "source": [
    "#Write a python program to print multiple of n from given range of integers.\n",
    "n=int(input(\"Enter n: \"))\n",
    "start=int(input(\"enter start range: \"))\n",
    "end=int(input(\"enter end range: \"))\n",
    "for i in range(start, end+1):\n",
    "    if(i%n==0):\n",
    "        print(i)"
   ]
  },
  {
   "cell_type": "code",
   "execution_count": 61,
   "id": "4c621d5a-1c18-48c8-85df-ad294be4713b",
   "metadata": {},
   "outputs": [
    {
     "name": "stdin",
     "output_type": "stream",
     "text": [
      "Enter number:  153\n"
     ]
    },
    {
     "name": "stdout",
     "output_type": "stream",
     "text": [
      "Number is armstrong.\n"
     ]
    }
   ],
   "source": [
    "#Write a python program to check given number is armstrong number or not.\n",
    "# (153)1^3+5^3+3^3=153\n",
    "n=input(\"Enter number: \")\n",
    "temp=int(n)\n",
    "sum=0\n",
    "a=len(n)\n",
    "while temp!=0:\n",
    "    d=temp%10\n",
    "    sum=sum+(d**a)\n",
    "    temp=temp//10\n",
    "    \n",
    "if(sum==int(n)):\n",
    "    print(\"Number is armstrong.\")\n",
    "else:\n",
    "    print(\"Number is not armstrong.\")"
   ]
  },
  {
   "cell_type": "code",
   "execution_count": 66,
   "id": "4d8a3d9c-30a7-4e48-9d92-98de0843e17a",
   "metadata": {},
   "outputs": [
    {
     "name": "stdin",
     "output_type": "stream",
     "text": [
      " Enter number:  26\n"
     ]
    },
    {
     "name": "stdout",
     "output_type": "stream",
     "text": [
      "26 is not prime number.\n"
     ]
    }
   ],
   "source": [
    "# Write a python program to check given number is prime or not.\n",
    "n=int(input(\" Enter number: \"))\n",
    "flag=0\n",
    "for i in range(2,n):\n",
    "    if(n%i==0):\n",
    "        flag=1\n",
    "        break\n",
    "        \n",
    "if(flag==0):\n",
    "    print(n,\"is prime number.\")\n",
    "else:\n",
    "    print(n,\"is not prime number.\")"
   ]
  },
  {
   "cell_type": "code",
   "execution_count": 67,
   "id": "8848b300-ce3e-441b-ab07-6f9c35951ae0",
   "metadata": {},
   "outputs": [
    {
     "name": "stdout",
     "output_type": "stream",
     "text": [
      "i= 0 j= 0\n",
      "i= 0 j= 1\n",
      "i= 1 j= 0\n",
      "i= 1 j= 1\n"
     ]
    }
   ],
   "source": [
    "# nested loop\n",
    "for i in range(2):\n",
    "    for j in range(2):\n",
    "        print(\"i=\",i,\"j=\",j)"
   ]
  },
  {
   "cell_type": "code",
   "execution_count": 71,
   "id": "7be78f75-9aa6-420c-857d-6e111ea1edc0",
   "metadata": {},
   "outputs": [
    {
     "name": "stdin",
     "output_type": "stream",
     "text": [
      "Enter start interval:  1\n",
      "Enter End interval:  5\n"
     ]
    },
    {
     "name": "stdout",
     "output_type": "stream",
     "text": [
      "1 2 3 5 "
     ]
    }
   ],
   "source": [
    "# Write a python program to print prime numbers between given interval from user.\n",
    "a=int(input(\"Enter start interval: \"))\n",
    "b=int(input(\"Enter End interval: \"))\n",
    "for j in range(a,b+1):\n",
    "    flag=0\n",
    "    for i in range(2,j):\n",
    "        if(j%i==0):\n",
    "            flag=1\n",
    "    if(flag==0):\n",
    "        print(j,end=\" \")"
   ]
  },
  {
   "cell_type": "code",
   "execution_count": 73,
   "id": "3be94427-bdd8-4047-97ec-ffb1e61722a5",
   "metadata": {},
   "outputs": [
    {
     "name": "stdin",
     "output_type": "stream",
     "text": [
      "Enter number of rows:  5\n"
     ]
    },
    {
     "name": "stdout",
     "output_type": "stream",
     "text": [
      "* \n",
      "* * \n",
      "* * * \n",
      "* * * * \n",
      "* * * * * \n"
     ]
    }
   ],
   "source": [
    "#pattern for n rows\n",
    "'''\n",
    "*\n",
    "* *\n",
    "* * *\n",
    "* * * *\n",
    "* * * * * '''\n",
    "n=int(input(\"Enter number of rows: \"))\n",
    "for i in range(1,n+1):\n",
    "    for j in range(1,i+1):\n",
    "        print(\"*\",end=\" \")\n",
    "    print() "
   ]
  },
  {
   "cell_type": "code",
   "execution_count": 75,
   "id": "fe86c4d4-72d3-49e1-9767-fc965009efb3",
   "metadata": {},
   "outputs": [
    {
     "name": "stdin",
     "output_type": "stream",
     "text": [
      "Enter number of rows:  5\n"
     ]
    },
    {
     "name": "stdout",
     "output_type": "stream",
     "text": [
      "1 \n",
      "2 2 \n",
      "3 3 3 \n",
      "4 4 4 4 \n",
      "5 5 5 5 5 \n"
     ]
    }
   ],
   "source": [
    "n=int(input(\"Enter number of rows: \"))\n",
    "for i in range(1,n+1):\n",
    "    for j in range(1,i+1):\n",
    "        print(i,end=\" \")\n",
    "    print() "
   ]
  },
  {
   "cell_type": "code",
   "execution_count": 76,
   "id": "dd0e6ba0-4d30-486b-a9c2-b5367cb6a635",
   "metadata": {},
   "outputs": [
    {
     "name": "stdin",
     "output_type": "stream",
     "text": [
      "Enter number of rows:  5\n"
     ]
    },
    {
     "name": "stdout",
     "output_type": "stream",
     "text": [
      "1 \n",
      "1 2 \n",
      "1 2 3 \n",
      "1 2 3 4 \n",
      "1 2 3 4 5 \n"
     ]
    }
   ],
   "source": [
    "n=int(input(\"Enter number of rows: \"))\n",
    "for i in range(1,n+1):\n",
    "    for j in range(1,i+1):\n",
    "        print(j,end=\" \")\n",
    "    print()"
   ]
  },
  {
   "cell_type": "code",
   "execution_count": 77,
   "id": "7e11db43-062b-45b1-802d-378921a9a563",
   "metadata": {},
   "outputs": [
    {
     "name": "stdin",
     "output_type": "stream",
     "text": [
      "Enter number of rows:  5\n"
     ]
    },
    {
     "name": "stdout",
     "output_type": "stream",
     "text": [
      "* * * * * \n",
      "* * * * \n",
      "* * * \n",
      "* * \n",
      "* \n"
     ]
    }
   ],
   "source": [
    "n=int(input(\"Enter number of rows: \"))\n",
    "for i in range(1,n+1):\n",
    "    for j in range(1,n+2-i):\n",
    "        print(\"*\",end=\" \")\n",
    "    print()"
   ]
  },
  {
   "cell_type": "code",
   "execution_count": 79,
   "id": "65457081-f2fa-42b5-890d-ab8831620b61",
   "metadata": {},
   "outputs": [
    {
     "name": "stdin",
     "output_type": "stream",
     "text": [
      "Enter number of rows:  5\n"
     ]
    },
    {
     "name": "stdout",
     "output_type": "stream",
     "text": [
      "  * * * * * \n",
      "    * * * * \n",
      "      * * * \n",
      "        * * \n",
      "          * \n"
     ]
    }
   ],
   "source": [
    "n=int(input(\"Enter number of rows: \"))\n",
    "for i in range(1,n+1):\n",
    "    for j in range(1,i+1):\n",
    "        print(\" \",end=\" \")\n",
    "    for k in range(i,n+1):\n",
    "        print(\"*\",end=\" \")\n",
    "    print()"
   ]
  },
  {
   "cell_type": "code",
   "execution_count": 82,
   "id": "4a977498-988d-43f5-a0ff-6196fc6525d0",
   "metadata": {},
   "outputs": [
    {
     "name": "stdin",
     "output_type": "stream",
     "text": [
      "Enter number of rows:  5\n"
     ]
    },
    {
     "name": "stdout",
     "output_type": "stream",
     "text": [
      " * * * * * \n",
      "  * * * * \n",
      "   * * * \n",
      "    * * \n",
      "     * \n"
     ]
    }
   ],
   "source": [
    "n=int(input(\"Enter number of rows: \"))\n",
    "for i in range(1,n+1):\n",
    "    for j in range(1,i+1):\n",
    "        print(\"\",end=\" \")\n",
    "    for k in range(i,n+1):\n",
    "        print(\"*\",end=\" \")\n",
    "    print()"
   ]
  },
  {
   "cell_type": "code",
   "execution_count": 83,
   "id": "00e8fbda-db92-42b9-87b9-c9cf5a93d92b",
   "metadata": {},
   "outputs": [
    {
     "name": "stdin",
     "output_type": "stream",
     "text": [
      "Enter number of rows:  5\n"
     ]
    },
    {
     "name": "stdout",
     "output_type": "stream",
     "text": [
      "1 2 3 4 5 \n",
      "1 2 3 4 \n",
      "1 2 3 \n",
      "1 2 \n",
      "1 \n"
     ]
    }
   ],
   "source": [
    "n=int(input(\"Enter number of rows: \"))\n",
    "for i in range(1,n+1):\n",
    "    for j in range(1,n+2-i):\n",
    "        print(j,end=\" \")\n",
    "    print()"
   ]
  },
  {
   "cell_type": "code",
   "execution_count": 84,
   "id": "564f9788-8673-4d68-9c4c-4dffd8e65afd",
   "metadata": {},
   "outputs": [
    {
     "name": "stdin",
     "output_type": "stream",
     "text": [
      "Enter number of rows:  5\n"
     ]
    },
    {
     "name": "stdout",
     "output_type": "stream",
     "text": [
      "1 \n",
      "2 3 \n",
      "4 5 6 \n",
      "7 8 9 10 \n",
      "11 12 13 14 15 \n"
     ]
    }
   ],
   "source": [
    "n=int(input(\"Enter number of rows: \"))\n",
    "k=1\n",
    "for i in range(1,n+1):\n",
    "    for j in range(1,i+1):\n",
    "        print(k,end=\" \")\n",
    "        k=k+1\n",
    "    print()"
   ]
  },
  {
   "cell_type": "code",
   "execution_count": 85,
   "id": "9ca4c0d2-1af6-472f-9f95-d07dd60d3da2",
   "metadata": {},
   "outputs": [
    {
     "name": "stdin",
     "output_type": "stream",
     "text": [
      "Enter number of rows:  5\n"
     ]
    },
    {
     "name": "stdout",
     "output_type": "stream",
     "text": [
      "A \n",
      "B C \n",
      "D E F \n",
      "G H I J \n",
      "K L M N O \n"
     ]
    }
   ],
   "source": [
    "n=int(input(\"Enter number of rows: \"))\n",
    "k=65\n",
    "for i in range(1,n+1):\n",
    "    for j in range(1,i+1):\n",
    "        print(chr(k),end=\" \")\n",
    "        k=k+1\n",
    "    print()"
   ]
  },
  {
   "cell_type": "code",
   "execution_count": 86,
   "id": "445d6262-fd28-4376-b324-e5d7fa167c6e",
   "metadata": {},
   "outputs": [
    {
     "name": "stdin",
     "output_type": "stream",
     "text": [
      "Enter number of rows:  5\n"
     ]
    },
    {
     "name": "stdout",
     "output_type": "stream",
     "text": [
      "a \n",
      "b c \n",
      "d e f \n",
      "g h i j \n",
      "k l m n o \n"
     ]
    }
   ],
   "source": [
    "n=int(input(\"Enter number of rows: \"))\n",
    "k=97\n",
    "for i in range(1,n+1):\n",
    "    for j in range(1,i+1):\n",
    "        print(chr(k),end=\" \")\n",
    "        k=k+1\n",
    "    print()"
   ]
  },
  {
   "cell_type": "code",
   "execution_count": 87,
   "id": "aa1352c4-25eb-4daf-ab53-130a8180bc38",
   "metadata": {},
   "outputs": [
    {
     "name": "stdin",
     "output_type": "stream",
     "text": [
      "Enter number of rows:  5\n"
     ]
    },
    {
     "name": "stdout",
     "output_type": "stream",
     "text": [
      "A \n",
      "A B \n",
      "A B C \n",
      "A B C D \n",
      "A B C D E \n"
     ]
    }
   ],
   "source": [
    "n=int(input(\"Enter number of rows: \"))\n",
    "for i in range(1,n+1):\n",
    "    k=65\n",
    "    for j in range(1,i+1):\n",
    "        print(chr(k),end=\" \")\n",
    "        k=k+1\n",
    "    print()"
   ]
  },
  {
   "cell_type": "code",
   "execution_count": 91,
   "id": "8ce84e3d-addb-4507-a6e0-f5e0430f149c",
   "metadata": {},
   "outputs": [
    {
     "name": "stdin",
     "output_type": "stream",
     "text": [
      "Enter number of rows:  5\n"
     ]
    },
    {
     "name": "stdout",
     "output_type": "stream",
     "text": [
      "    * \n",
      "   * * \n",
      "  * * * \n",
      " * * * * \n",
      "* * * * * \n"
     ]
    }
   ],
   "source": [
    "n=int(input(\"Enter number of rows: \"))\n",
    "for i in range(1,n+1):\n",
    "    for j in range(1,n-i+1):\n",
    "        print(end=\" \")\n",
    "    for k in range(1,i+1):\n",
    "            print(\"*\",end=\" \")\n",
    "    print()"
   ]
  },
  {
   "cell_type": "code",
   "execution_count": 92,
   "id": "a8e33bd8-78f9-4491-a799-ba11737b2385",
   "metadata": {},
   "outputs": [
    {
     "name": "stdin",
     "output_type": "stream",
     "text": [
      "Enter number of rows:  5\n"
     ]
    },
    {
     "name": "stdout",
     "output_type": "stream",
     "text": [
      "    1 \n",
      "   A B \n",
      "  1 2 3 \n",
      " A B C D \n",
      "1 2 3 4 5 \n"
     ]
    }
   ],
   "source": [
    "n=int(input(\"Enter number of rows: \"))\n",
    "for i in range(1,n+1):\n",
    "    l=65\n",
    "    g=1\n",
    "    for j in range(1,n-i+1):\n",
    "        print(end=\" \")\n",
    "    for k in range(1,i+1):\n",
    "        if(i%2==0):\n",
    "            print(chr(l),end=\" \")\n",
    "            l=l+1\n",
    "        else:\n",
    "            print(g,end=\" \")\n",
    "            g=g+1\n",
    "    print()"
   ]
  },
  {
   "cell_type": "code",
   "execution_count": 96,
   "id": "308f111b-cdaf-49c7-9550-55198a05785c",
   "metadata": {},
   "outputs": [
    {
     "name": "stdin",
     "output_type": "stream",
     "text": [
      "Enter number of rows:  5\n"
     ]
    },
    {
     "name": "stdout",
     "output_type": "stream",
     "text": [
      "  1 2 3 4 5 \n",
      "    2 3 4 5 \n",
      "      3 4 5 \n",
      "        4 5 \n",
      "          5 \n"
     ]
    }
   ],
   "source": [
    "n=int(input(\"Enter number of rows: \"))\n",
    "for i in range(1,n+1):\n",
    "    for j in range(1,i+1):\n",
    "        print(\" \",end=\" \")\n",
    "    for k in range(i,n+1):\n",
    "        print(k,end=\" \")\n",
    "    print()\n"
   ]
  },
  {
   "cell_type": "code",
   "execution_count": 99,
   "id": "7489e7a0-191b-4d51-ac70-69f9fea9c5f4",
   "metadata": {},
   "outputs": [
    {
     "name": "stdin",
     "output_type": "stream",
     "text": [
      "Enter number of rows:  5\n"
     ]
    },
    {
     "name": "stdout",
     "output_type": "stream",
     "text": [
      "  5 4 3 2 1 \n",
      "    4 3 2 1 \n",
      "      3 2 1 \n",
      "        2 1 \n",
      "          1 \n"
     ]
    }
   ],
   "source": [
    "n=int(input(\"Enter number of rows: \"))\n",
    "for i in range(1,n+1):\n",
    "    for j in range(1,i+1):\n",
    "        print(\" \",end=\" \")\n",
    "    for k in range(n-i+1,0,-1):\n",
    "        print(k,end=\" \")\n",
    "    print()"
   ]
  },
  {
   "cell_type": "code",
   "execution_count": 100,
   "id": "72373f12-99eb-48e4-8b55-ad6074453eee",
   "metadata": {},
   "outputs": [
    {
     "name": "stdin",
     "output_type": "stream",
     "text": [
      "Enter number of rows:  5\n"
     ]
    },
    {
     "name": "stdout",
     "output_type": "stream",
     "text": [
      "* \n",
      "# # \n",
      "* * * \n",
      "# # # # \n",
      "* * * * * \n"
     ]
    }
   ],
   "source": [
    "n=int(input(\"Enter number of rows: \"))\n",
    "for i in range(1,n+1):\n",
    "    for j in range(1,i+1):\n",
    "        if(i%2==0):\n",
    "            print(\"#\",end=\" \")\n",
    "        else:\n",
    "            print(\"*\",end=\" \")\n",
    "    print()"
   ]
  },
  {
   "cell_type": "code",
   "execution_count": 101,
   "id": "528cde08-0db5-4af9-be1f-a6f16c19f9af",
   "metadata": {},
   "outputs": [
    {
     "name": "stdin",
     "output_type": "stream",
     "text": [
      "Enter number of rows:  5\n"
     ]
    },
    {
     "name": "stdout",
     "output_type": "stream",
     "text": [
      "1 \n",
      "0 1 \n",
      "1 0 1 \n",
      "0 1 0 1 \n",
      "1 0 1 0 1 \n"
     ]
    }
   ],
   "source": [
    "n=int(input(\"Enter number of rows: \"))\n",
    "for i in range(1,n+1):\n",
    "    for j in range(1,i+1):\n",
    "        print((i+j-1)%2,end=\" \")\n",
    "    print()"
   ]
  },
  {
   "cell_type": "code",
   "execution_count": 102,
   "id": "1867cee4-c96e-4f38-91bc-f4c1c1cad473",
   "metadata": {},
   "outputs": [
    {
     "name": "stdin",
     "output_type": "stream",
     "text": [
      "Enter number of rows:  5\n"
     ]
    },
    {
     "name": "stdout",
     "output_type": "stream",
     "text": [
      "        * \n",
      "      * * \n",
      "    * * * \n",
      "  * * * * \n",
      "* * * * * \n"
     ]
    }
   ],
   "source": [
    "n=int(input(\"Enter number of rows: \"))\n",
    "for i in range(1,n+1):\n",
    "    for j in range(1,n-i+1):\n",
    "        print(\" \",end=\" \")\n",
    "    for k in range(1,i+1):\n",
    "        print(\"*\",end=\" \")\n",
    "    print()"
   ]
  },
  {
   "cell_type": "code",
   "execution_count": 104,
   "id": "78377bf8-61d7-49f0-b1c6-911e22806b5f",
   "metadata": {},
   "outputs": [
    {
     "name": "stdin",
     "output_type": "stream",
     "text": [
      "Enter n:  5\n",
      "Enter number:  10\n",
      "Enter number:  2\n",
      "Enter number:  11\n",
      "Enter number:  33\n",
      "Enter number:  20\n"
     ]
    },
    {
     "name": "stdout",
     "output_type": "stream",
     "text": [
      "total odd: 2 Sum of odd numbers: 44\n",
      "total even: 3 Sum of even numbers: 32\n"
     ]
    }
   ],
   "source": [
    "#Write a python program to count total odd and even numbers and also do sum of them.\n",
    "n=int(input(\"Enter n: \"))\n",
    "even=0\n",
    "odd=0\n",
    "sum_even=0\n",
    "sum_odd=0\n",
    "for i in range(1,n+1):\n",
    "    a=int(input(\"Enter number: \"))\n",
    "    if(a%2==0):\n",
    "        even=even+1\n",
    "        sum_even+=a\n",
    "    else:\n",
    "        odd=odd+1\n",
    "        sum_odd+=a\n",
    "print(\"total odd:\",odd,\"Sum of odd numbers:\",sum_odd)\n",
    "print(\"total even:\",even,\"Sum of even numbers:\",sum_even)"
   ]
  },
  {
   "cell_type": "code",
   "execution_count": 110,
   "id": "a7c37da7-053f-4ca0-8718-866c1070dc7a",
   "metadata": {},
   "outputs": [
    {
     "name": "stdin",
     "output_type": "stream",
     "text": [
      "Enter n:  5\n",
      "Enter number:  -1\n",
      "Enter number:  -2\n",
      "Enter number:  20\n",
      "Enter number:  30\n",
      "Enter number:  -4\n"
     ]
    },
    {
     "name": "stdout",
     "output_type": "stream",
     "text": [
      "Sum of positive numbers=  50\n"
     ]
    }
   ],
   "source": [
    "# Write a python program to find sum of positive numbers and skip negative numbers.\n",
    "n=int(input(\"Enter n: \"))\n",
    "sum_positive=0\n",
    "for i in range(1,n+1):\n",
    "    a=int(input(\"Enter number: \"))\n",
    "    if(a<0):\n",
    "        continue\n",
    "    sum_positive+=a\n",
    "print(\"Sum of positive numbers= \",sum_positive)"
   ]
  },
  {
   "cell_type": "code",
   "execution_count": 111,
   "id": "96bbc27a-5033-4f62-bed8-a474da51cb17",
   "metadata": {},
   "outputs": [
    {
     "name": "stdin",
     "output_type": "stream",
     "text": [
      "Enter a number:  10\n"
     ]
    },
    {
     "name": "stdout",
     "output_type": "stream",
     "text": [
      "Number is Positive\n"
     ]
    }
   ],
   "source": [
    "#Write a program to check if the input number is positive, negative or zero.\n",
    "number = float(input(\"Enter a number: \"))\n",
    "if number > 0:\n",
    "    print(\"Number is Positive\")\n",
    "elif number < 0:\n",
    "    print(\"Number is Negative\")\n",
    "else:\n",
    "    print(\"Number is Zero\")"
   ]
  },
  {
   "cell_type": "code",
   "execution_count": 112,
   "id": "dfe631fe-d8b2-4b7a-9c27-009a43210aea",
   "metadata": {},
   "outputs": [
    {
     "name": "stdin",
     "output_type": "stream",
     "text": [
      "Enter first number:  20\n",
      "Enter second number:  30\n",
      "Enter third number:  10\n"
     ]
    },
    {
     "name": "stdout",
     "output_type": "stream",
     "text": [
      "max number is 30.0\n"
     ]
    }
   ],
   "source": [
    "#Write a program to find the maximum number among the three input numbers.\n",
    "# Taking three numbers as input.\n",
    "a = float(input(\"Enter first number: \"))\n",
    "b = float(input(\"Enter second number: \"))\n",
    "c = float(input(\"Enter third number: \"))\n",
    "if a>b and a>c:\n",
    "    print(f\"max number is {a}\")\n",
    "elif b>c:\n",
    "    print(f\"max number is {b}\")\n",
    "else:\n",
    "    print(f\"max number is {c}\") "
   ]
  },
  {
   "cell_type": "code",
   "execution_count": 114,
   "id": "ef4cc507-8181-4c7f-9877-9cb51b6800c2",
   "metadata": {},
   "outputs": [
    {
     "name": "stdin",
     "output_type": "stream",
     "text": [
      "enter number:  2\n"
     ]
    },
    {
     "name": "stdout",
     "output_type": "stream",
     "text": [
      "sum of n number 3\n"
     ]
    }
   ],
   "source": [
    "#Write a program to find sum of first N natural numbers given by user.\n",
    "n= int(input(\"enter number: \"))\n",
    "sum=0\n",
    "for i in range(1,n+1):\n",
    "    sum+=i\n",
    "print(f\"sum of n number {sum}\") "
   ]
  },
  {
   "cell_type": "code",
   "execution_count": 115,
   "id": "1991a618-d255-4e09-b959-316c1f96c3c3",
   "metadata": {},
   "outputs": [
    {
     "name": "stdin",
     "output_type": "stream",
     "text": [
      "enter number:  5\n"
     ]
    },
    {
     "name": "stdout",
     "output_type": "stream",
     "text": [
      "sum of n number 15\n",
      "Avg of n number 3.0\n"
     ]
    }
   ],
   "source": [
    "#Write a program to find average of first N natural numbers given by user.\n",
    "n= int(input(\"enter number: \"))\n",
    "sum=0\n",
    "count=0\n",
    "for i in range(1,n+1):\n",
    "    sum+=i\n",
    "    count+=1\n",
    "print(f\"sum of n number {sum}\")\n",
    "print(f\"Avg of n number {sum/count}\")"
   ]
  },
  {
   "cell_type": "code",
   "execution_count": 116,
   "id": "40bc1237-9aca-4a71-9cd4-7589b3f62fb6",
   "metadata": {},
   "outputs": [
    {
     "name": "stdin",
     "output_type": "stream",
     "text": [
      "Enter the first number (a):  50\n",
      "Enter the second number (b):  70\n",
      "Enter the number to check divisibility (c):  20\n"
     ]
    },
    {
     "name": "stdout",
     "output_type": "stream",
     "text": [
      "number is divisible by 20:69\n",
      "Total number is :1\n"
     ]
    }
   ],
   "source": [
    "#Write a python program to read three numbers (a,b,c) and check how many numbers between ‘a’ and ‘b’ are divisible by ‘c’.\n",
    "a = int(input(\"Enter the first number (a): \"))\n",
    "b = int(input(\"Enter the second number (b): \"))\n",
    "c = int(input(\"Enter the number to check divisibility (c): \"))\n",
    "count = 0\n",
    "for i in range(a + 1, b):\n",
    "    if i % c == 0:\n",
    "        count += 1\n",
    "print(f\"number is divisible by {c}:{i}\" )\n",
    "print(f\"Total number is :{count}\")"
   ]
  },
  {
   "cell_type": "code",
   "execution_count": 118,
   "id": "45fd092d-e42e-4cf9-985f-707d4c30eacb",
   "metadata": {},
   "outputs": [
    {
     "name": "stdin",
     "output_type": "stream",
     "text": [
      "Enter first number:  20\n",
      "Enter second number:  10\n",
      "Enter third number:  30\n"
     ]
    },
    {
     "name": "stdout",
     "output_type": "stream",
     "text": [
      "Result: 60\n"
     ]
    }
   ],
   "source": [
    "#Write a Python Program to calculate the sum of three given numbers, if the values are equal then return thrice their sum.\n",
    "a = int(input(\"Enter first number: \"))\n",
    "b = int(input(\"Enter second number: \"))\n",
    "c = int(input(\"Enter third number: \"))\n",
    "total = a + b + c\n",
    "if a == b == c:\n",
    "    result = 3 * total\n",
    "else:\n",
    "    result = total\n",
    "print(\"Result:\", result)"
   ]
  },
  {
   "cell_type": "code",
   "execution_count": null,
   "id": "8751ab31-a5a1-4720-b7b7-89dc474f0374",
   "metadata": {},
   "outputs": [],
   "source": [
    "#Write a Python Program to print all Happy Numbers between the given range entered by user. (Include both Start and End Range Number).\n",
    "start = int(input(\"Enter start range: \"))\n",
    "end = int(input(\"Enter end range: \"))\n",
    "print(\"Happy numbers between\", start, \"and\", end, \":\")\n",
    "for i in range(start, end + 1):\n",
    "    num = i\n",
    "    while num != 1 and num != 4: \n",
    "        s = 0\n",
    "        temp = num\n",
    "        while temp > 0:\n",
    "            digit = temp % 10\n",
    "            s += digit * digit\n",
    "            temp //= 10\n",
    "            num = s\n",
    "    if num == 1:\n",
    "        print(i, end=\" \")"
   ]
  },
  {
   "cell_type": "code",
   "execution_count": 4,
   "id": "d22f7f2e-3265-4fd7-a0b8-885eeebef7bc",
   "metadata": {},
   "outputs": [
    {
     "name": "stdin",
     "output_type": "stream",
     "text": [
      "Enter a number:  351113\n"
     ]
    },
    {
     "name": "stdout",
     "output_type": "stream",
     "text": [
      "Output: 45\n"
     ]
    }
   ],
   "source": [
    "#Write a Python Program to Compute the product of the odd digits in a given number, 0 if there are not any odd digits in a given number.\n",
    "num = int(input(\"Enter a number: \"))\n",
    "product = 1 \n",
    "has_odd = False \n",
    "temp = num \n",
    "while temp > 0:\n",
    "    digit = temp % 10 \n",
    "    if digit % 2 != 0: \n",
    "        product = product * digit\n",
    "        has_odd = True\n",
    "    temp = temp // 10 \n",
    "if not has_odd:\n",
    "    product = 0\n",
    "print(\"Output:\", product)"
   ]
  },
  {
   "cell_type": "code",
   "execution_count": 6,
   "id": "cb62e79a-4249-4e10-a56c-ef50ac03dd1f",
   "metadata": {},
   "outputs": [
    {
     "name": "stdin",
     "output_type": "stream",
     "text": [
      "Enter the first positive integer:  12\n",
      "Enter the second positive integer:  21\n"
     ]
    },
    {
     "name": "stdout",
     "output_type": "stream",
     "text": [
      "The Greatest Common Divisor (GCD) of the given numbers is: 3\n"
     ]
    }
   ],
   "source": [
    "# Write a Python program to compute the greatest common divisor (GCD) of two positive integers.\n",
    "num1 = int(input(\"Enter the first positive integer: \"))\n",
    "num2 = int(input(\"Enter the second positive integer: \"))\n",
    "if num1 <= 0 or num2 <= 0:\n",
    "    print(\"Please enter positive integers.\")\n",
    "else:\n",
    "    while num2 != 0:\n",
    "        temp = num2\n",
    "        num2 = num1 % num2\n",
    "        num1 = temp\n",
    "print(f\"The Greatest Common Divisor (GCD) of the given numbers is: {num1}\")"
   ]
  },
  {
   "cell_type": "code",
   "execution_count": null,
   "id": "97272ef7-32b7-4f16-99d1-736cd9a9f731",
   "metadata": {},
   "outputs": [],
   "source": []
  }
 ],
 "metadata": {
  "kernelspec": {
   "display_name": "Python 3 (ipykernel)",
   "language": "python",
   "name": "python3"
  },
  "language_info": {
   "codemirror_mode": {
    "name": "ipython",
    "version": 3
   },
   "file_extension": ".py",
   "mimetype": "text/x-python",
   "name": "python",
   "nbconvert_exporter": "python",
   "pygments_lexer": "ipython3",
   "version": "3.13.5"
  }
 },
 "nbformat": 4,
 "nbformat_minor": 5
}
