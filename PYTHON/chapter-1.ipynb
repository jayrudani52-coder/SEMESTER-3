{
 "cells": [
  {
   "cell_type": "code",
   "execution_count": 1,
   "id": "df9d62f2-3a99-4ac9-bee0-b9ed2d0a6159",
   "metadata": {},
   "outputs": [
    {
     "name": "stdin",
     "output_type": "stream",
     "text": [
      "Enter first number: 10\n",
      "Enter second number: 20\n"
     ]
    },
    {
     "name": "stdout",
     "output_type": "stream",
     "text": [
      "Sum of two numbers= 30\n"
     ]
    }
   ],
   "source": [
    "#Write a python program to add two numbers with user input.\n",
    "x=int(input(\"Enter first number:\"))\n",
    "y=int(input (\"Enter second number:\"))\n",
    "z=x+y\n",
    "print(\"Sum of two numbers=\",z)"
   ]
  },
  {
   "cell_type": "code",
   "execution_count": 2,
   "id": "08cdd06a-b51f-4ea4-b47e-a7ba5435f279",
   "metadata": {},
   "outputs": [
    {
     "name": "stdin",
     "output_type": "stream",
     "text": [
      "Enter radius of circle:  10\n"
     ]
    },
    {
     "name": "stdout",
     "output_type": "stream",
     "text": [
      "The area of circle= 314.1592653589793\n"
     ]
    }
   ],
   "source": [
    "#write a python program to find area of circle.\n",
    "import math\n",
    "r=int(input(\"Enter radius of circle: \"))\n",
    "p=math.pi\n",
    "a=p*r**2 \n",
    "print(\"The area of circle=\",a)"
   ]
  },
  {
   "cell_type": "code",
   "execution_count": 3,
   "id": "06eb4ba3-79e3-4cbc-a015-48f38b7962f0",
   "metadata": {},
   "outputs": [
    {
     "name": "stdin",
     "output_type": "stream",
     "text": [
      "enter value of first parallel side: 10\n",
      "enter value of second parallel side: 20\n",
      "enter value of height: 5\n"
     ]
    },
    {
     "name": "stdout",
     "output_type": "stream",
     "text": [
      "Area of trapazoid= 75.0\n"
     ]
    }
   ],
   "source": [
    "#Write a python program to calculate area of trapezoid.\n",
    "a=int(input(\"enter value of first parallel side:\"))\n",
    "b=int(input(\"enter value of second parallel side:\"))\n",
    "h=int(input(\"enter value of height:\"))\n",
    "area=0.5*h*(a+b)\n",
    "print(\"Area of trapazoid=\",area)"
   ]
  },
  {
   "cell_type": "code",
   "execution_count": 4,
   "id": "0cd54c46-3797-4b6d-9e57-a13af0581fcd",
   "metadata": {},
   "outputs": [
    {
     "name": "stdin",
     "output_type": "stream",
     "text": [
      "Enter value of base: 10\n",
      "Enter value of height: 20\n"
     ]
    },
    {
     "name": "stdout",
     "output_type": "stream",
     "text": [
      "Area of triangle=  100.0 unit\n"
     ]
    }
   ],
   "source": [
    "#write a python program to find area of triangle.\n",
    "b=int(input(\"Enter value of base:\"))\n",
    "h=int(input(\"Enter value of height:\"))\n",
    "a=0.5*b*h\n",
    "print(\"Area of triangle= \",a,\"unit\")"
   ]
  },
  {
   "cell_type": "code",
   "execution_count": 5,
   "id": "800dbae7-be41-42ad-b7d5-aa2d695da101",
   "metadata": {},
   "outputs": [
    {
     "name": "stdin",
     "output_type": "stream",
     "text": [
      "Enter radius of cylinder: 10\n",
      "Enter height of cylinder: 20\n"
     ]
    },
    {
     "name": "stdout",
     "output_type": "stream",
     "text": [
      "Area of cylinder= 1884.9555921538758\n",
      "Volume of cylinder= 6283.185307179587\n"
     ]
    }
   ],
   "source": [
    "#Write a python program to calculate volume and total area of cylinder.\n",
    "import math\n",
    "r=int(input(\"Enter radius of cylinder:\"))\n",
    "h=int(input(\"Enter height of cylinder:\"))\n",
    "p=math.pi\n",
    "area=(2*p*r*r)+(2*p*r*h)\n",
    "volume=p*r*r*h\n",
    "print(\"Area of cylinder=\",area)\n",
    "print(\"Volume of cylinder=\",volume)"
   ]
  },
  {
   "cell_type": "code",
   "execution_count": 6,
   "id": "4453a971-330b-4442-8fa1-d856828a5206",
   "metadata": {},
   "outputs": [
    {
     "name": "stdin",
     "output_type": "stream",
     "text": [
      "Enter temperature in fahrenheit: 98\n"
     ]
    },
    {
     "name": "stdout",
     "output_type": "stream",
     "text": [
      "The temp. in celcius for given temp. in faherenheit: 36.66666666666667\n"
     ]
    },
    {
     "name": "stdin",
     "output_type": "stream",
     "text": [
      "Enter temperature in celcius: 36\n"
     ]
    },
    {
     "name": "stdout",
     "output_type": "stream",
     "text": [
      "The temp. in fahrenheit for given temp. in celcius: 96.8\n"
     ]
    }
   ],
   "source": [
    "#Write a python program to convert fahrenheit to celcius and vice versa.\n",
    "F=float(input(\"Enter temperature in fahrenheit:\"))\n",
    "print(\"The temp. in celcius for given temp. in faherenheit:\",(F-32)*(5/9))\n",
    "C=float(input(\"Enter temperature in celcius:\"))\n",
    "print(\"The temp. in fahrenheit for given temp. in celcius:\",((9/5)*C)+32)"
   ]
  },
  {
   "cell_type": "code",
   "execution_count": 7,
   "id": "0315e3af-7ef4-42b5-a017-c0d4d4628011",
   "metadata": {},
   "outputs": [
    {
     "name": "stdin",
     "output_type": "stream",
     "text": [
      "Enter hours to convert into min. and sec. : 2\n"
     ]
    },
    {
     "name": "stdout",
     "output_type": "stream",
     "text": [
      "The minutes of given hours= 120\n",
      "The seconds of given hours= 7200\n"
     ]
    }
   ],
   "source": [
    "#write a python program to convert hours in to minutes and seconds.\n",
    "H=int(input(\"Enter hours to convert into min. and sec. :\"))\n",
    "print(\"The minutes of given hours=\", H*60)\n",
    "print(\"The seconds of given hours=\", H*60*60)"
   ]
  },
  {
   "cell_type": "code",
   "execution_count": 8,
   "id": "f2e79f11-28be-46d1-9d83-885977e6b851",
   "metadata": {},
   "outputs": [
    {
     "name": "stdin",
     "output_type": "stream",
     "text": [
      "Enter positive number: 25\n"
     ]
    },
    {
     "name": "stdout",
     "output_type": "stream",
     "text": [
      "Square root of entered number= 5.0\n"
     ]
    }
   ],
   "source": [
    "#Write a python program to calculate the square root of positive number.\n",
    "import math\n",
    "a=int(input(\"Enter positive number:\"))\n",
    "x=math.sqrt(a)\n",
    "print(\"Square root of entered number=\",x)"
   ]
  },
  {
   "cell_type": "code",
   "execution_count": 9,
   "id": "03ede917-9598-40d6-9f47-a31ff63466cc",
   "metadata": {},
   "outputs": [
    {
     "name": "stdin",
     "output_type": "stream",
     "text": [
      "Enter the value of degree to convert in to radian: 20\n"
     ]
    },
    {
     "name": "stdout",
     "output_type": "stream",
     "text": [
      "The radian measure is  0.3490658503988659\n"
     ]
    }
   ],
   "source": [
    "#Write a python program to convert degree in to radian.\n",
    "from math import *\n",
    "d=int(input(\"Enter the value of degree to convert in to radian:\"))\n",
    "r=(pi*d)/180\n",
    "print(\"The radian measure is \",r)"
   ]
  },
  {
   "cell_type": "code",
   "execution_count": 10,
   "id": "ce1c5be8-e3a2-4190-aa24-9cef7cd54980",
   "metadata": {},
   "outputs": [
    {
     "name": "stdin",
     "output_type": "stream",
     "text": [
      "Enter number of days: 365\n"
     ]
    },
    {
     "name": "stdout",
     "output_type": "stream",
     "text": [
      "1 years 0 months 0 days\n"
     ]
    }
   ],
   "source": [
    "#Write a python program to convert given days in to year, month and days.\n",
    "days=int(input(\"Enter number of days:\"))\n",
    "y=days//365\n",
    "m=(days%365)//30\n",
    "d=(days%365)%30\n",
    "print(y,\"years\",m,\"months\",d,\"days\")"
   ]
  },
  {
   "cell_type": "code",
   "execution_count": 11,
   "id": "9ff88345-6a0c-4bd8-bdfc-596c7739360a",
   "metadata": {},
   "outputs": [
    {
     "name": "stdin",
     "output_type": "stream",
     "text": [
      "Enter value of a : 20\n",
      "Enter value of b : 10\n"
     ]
    },
    {
     "name": "stdout",
     "output_type": "stream",
     "text": [
      "After swapping a: 10  b: 20\n"
     ]
    }
   ],
   "source": [
    "#Write a python program to swap two numbers without using temporary variable.\n",
    "a=int(input(\"Enter value of a :\"))\n",
    "b=int(input(\"Enter value of b :\"))\n",
    "a=a+b\n",
    "b=a-b\n",
    "a=a-b\n",
    "print(\"After swapping a:\",a,\" b:\",b)"
   ]
  },
  {
   "cell_type": "code",
   "execution_count": 12,
   "id": "5e2d29e5-30b0-49a3-97fd-365e0fbc6406",
   "metadata": {},
   "outputs": [
    {
     "name": "stdin",
     "output_type": "stream",
     "text": [
      "Enter value of a : 10\n",
      "Enter value of b : 20\n"
     ]
    },
    {
     "name": "stdout",
     "output_type": "stream",
     "text": [
      "After swapping a: 20  b: 10\n"
     ]
    }
   ],
   "source": [
    "#Write a python program to swap two numbers with temporary variable.\n",
    "a=int(input(\"Enter value of a :\"))\n",
    "b=int(input(\"Enter value of b :\"))\n",
    "c=a\n",
    "a=b\n",
    "b=c\n",
    "print(\"After swapping a:\",a,\" b:\",b)"
   ]
  },
  {
   "cell_type": "code",
   "execution_count": 13,
   "id": "3e1e8600-de34-44e5-8ae8-3aa8d68be09c",
   "metadata": {},
   "outputs": [
    {
     "name": "stdout",
     "output_type": "stream",
     "text": [
      "True\n",
      "False\n",
      "True\n",
      "False\n",
      "False\n",
      "True\n"
     ]
    }
   ],
   "source": [
    "#Relational operators\n",
    "a=10\n",
    "b=5\n",
    "print(a>b)\n",
    "print(a<b)\n",
    "print(a>=b)\n",
    "print(a<=b)\n",
    "print(a==b)\n",
    "print(a!=b)"
   ]
  },
  {
   "cell_type": "code",
   "execution_count": 14,
   "id": "6cea69e2-024e-4082-830f-727d3b5d609d",
   "metadata": {},
   "outputs": [
    {
     "name": "stdout",
     "output_type": "stream",
     "text": [
      "False\n",
      "True\n",
      "False\n",
      "True\n"
     ]
    }
   ],
   "source": [
    "#Logical operators\n",
    "a=20\n",
    "b=10\n",
    "c=30\n",
    "print(a>b and a>c)\n",
    "print(a>b or a>c)\n",
    "print(not a>b)\n",
    "print(not a>c)\n"
   ]
  },
  {
   "cell_type": "code",
   "execution_count": 15,
   "id": "98768fc5-064d-4ff0-acb3-3aaf30dd830f",
   "metadata": {},
   "outputs": [
    {
     "name": "stdout",
     "output_type": "stream",
     "text": [
      "x1= 20\n",
      "x2= 0\n",
      "x3= 200\n",
      "x4= 2.0\n",
      "x5= 3\n"
     ]
    }
   ],
   "source": [
    "#Assignment operators\n",
    "x1=10\n",
    "x2=5\n",
    "x3=20\n",
    "x4=20\n",
    "x5=10\n",
    "x1+=10\n",
    "print(\"x1=\",x1)\n",
    "x2-=5\n",
    "print(\"x2=\",x2)\n",
    "x3*=10\n",
    "print(\"x3=\",x3)\n",
    "x4/=10\n",
    "print(\"x4=\",x4)\n",
    "x5%=7\n",
    "print(\"x5=\",x5)"
   ]
  },
  {
   "cell_type": "code",
   "execution_count": 16,
   "id": "1e06d7ee-4024-4f53-8ac5-c72d3783627d",
   "metadata": {},
   "outputs": [
    {
     "name": "stdout",
     "output_type": "stream",
     "text": [
      "True\n",
      "False\n",
      "True\n",
      "True\n",
      "True\n",
      "False\n"
     ]
    }
   ],
   "source": [
    "#Demostrate use of identity operators\n",
    "x=5\n",
    "y=5.3\n",
    "z=5\n",
    "print(type(x) is int)\n",
    "print(type(y) is int)\n",
    "print(type(y) is float)\n",
    "print(x is z)\n",
    "print(x is not y)\n",
    "print(x is y)"
   ]
  },
  {
   "cell_type": "code",
   "execution_count": 17,
   "id": "62ef4d66-33cc-426b-a7c8-841129835471",
   "metadata": {},
   "outputs": [
    {
     "name": "stdout",
     "output_type": "stream",
     "text": [
      "False\n",
      "True\n",
      "True\n"
     ]
    }
   ],
   "source": [
    "#Demostrate use of membership operator.\n",
    "x=\"abcd\"\n",
    "print(\"p\" in x)\n",
    "print(\"c\" in x)\n",
    "y=[1,2,3,4]\n",
    "print(1 in y)"
   ]
  },
  {
   "cell_type": "code",
   "execution_count": 18,
   "id": "b105a7e9-2cc3-49e0-be32-fe9ba7f346e5",
   "metadata": {},
   "outputs": [
    {
     "name": "stdin",
     "output_type": "stream",
     "text": [
      "enter number: -10\n"
     ]
    },
    {
     "name": "stdout",
     "output_type": "stream",
     "text": [
      "negative\n"
     ]
    }
   ],
   "source": [
    "#wtite a python program to check the given number is positive or negative using cond\n",
    "a=int(input(\"enter number:\"))\n",
    "print(\"positive\" if a>0 else \"negative\")"
   ]
  },
  {
   "cell_type": "code",
   "execution_count": 19,
   "id": "d41062ed-c9b5-4038-9a34-f121fbdf4fc9",
   "metadata": {},
   "outputs": [
    {
     "name": "stdin",
     "output_type": "stream",
     "text": [
      "enter number: 12\n"
     ]
    },
    {
     "name": "stdout",
     "output_type": "stream",
     "text": [
      "Even\n"
     ]
    }
   ],
   "source": [
    "#wtite a python program to check the given number is odd or even using conditional o\n",
    "a=int(input(\"enter number:\"))\n",
    "print(\"Even\" if a%2==0 else \"Odd\")"
   ]
  },
  {
   "cell_type": "code",
   "execution_count": 20,
   "id": "a10a5a37-18ad-4f20-a0c9-212e7759f6f5",
   "metadata": {},
   "outputs": [
    {
     "name": "stdout",
     "output_type": "stream",
     "text": [
      "4\n",
      "5\n",
      "1\n",
      "10\n",
      "2\n",
      "-6\n"
     ]
    }
   ],
   "source": [
    "#Demostrate bitwise operator\n",
    "a=5\n",
    "b=4\n",
    "print(a&b)\n",
    "print(a|b)\n",
    "print(a^b)\n",
    "print(a<<1)\n",
    "print(a>>1)\n",
    "print(~a)\n"
   ]
  },
  {
   "cell_type": "code",
   "execution_count": 21,
   "id": "65f74f45-ce5d-4cb9-a071-9052e2e921bb",
   "metadata": {},
   "outputs": [
    {
     "name": "stdout",
     "output_type": "stream",
     "text": [
      "10\n",
      "7\n",
      "83\n",
      "2748\n"
     ]
    }
   ],
   "source": [
    "#Number conversion\n",
    "a=10\n",
    "b=0b111\n",
    "c=0o123\n",
    "d=0xABC\n",
    "print(a)\n",
    "print(b)\n",
    "print(c)\n",
    "print(d)"
   ]
  },
  {
   "cell_type": "code",
   "execution_count": 22,
   "id": "381027a5-f130-4bdb-9740-b1ab52d0db04",
   "metadata": {},
   "outputs": [
    {
     "name": "stdout",
     "output_type": "stream",
     "text": [
      "0b1010\n",
      "0b111\n",
      "0b1010011\n",
      "0b101010111100\n"
     ]
    }
   ],
   "source": [
    "a=10\n",
    "b=0b111\n",
    "c=0o123\n",
    "d=0xABC\n",
    "print(bin(a))\n",
    "print(bin(b))\n",
    "print(bin(c))\n",
    "print(bin(d))"
   ]
  },
  {
   "cell_type": "code",
   "execution_count": 23,
   "id": "cc93bfe5-5550-4efa-83d5-7b672249e9e2",
   "metadata": {},
   "outputs": [
    {
     "name": "stdout",
     "output_type": "stream",
     "text": [
      "0o12\n",
      "0o7\n",
      "0o123\n",
      "0o5274\n"
     ]
    }
   ],
   "source": [
    "a=10\n",
    "b=0b111\n",
    "c=0o123\n",
    "d=0xABC\n",
    "print(oct(a))\n",
    "print(oct(b))\n",
    "print(oct(c))\n",
    "print(oct(d))"
   ]
  },
  {
   "cell_type": "code",
   "execution_count": 24,
   "id": "2dfe6d84-5615-4317-9aa8-b7164489a004",
   "metadata": {},
   "outputs": [
    {
     "name": "stdout",
     "output_type": "stream",
     "text": [
      "0xa\n",
      "0x7\n",
      "0x53\n",
      "0xabc\n"
     ]
    }
   ],
   "source": [
    "a=10\n",
    "b=0b111\n",
    "c=0o123\n",
    "d=0xABC\n",
    "print(hex(a))\n",
    "print(hex(b))\n",
    "print(hex(c))\n",
    "print(hex(d))"
   ]
  },
  {
   "cell_type": "code",
   "execution_count": 26,
   "id": "9297ce66-ccb8-4095-b4e5-80c29793234b",
   "metadata": {},
   "outputs": [
    {
     "name": "stdout",
     "output_type": "stream",
     "text": [
      "Options:\n",
      "Enter 'add' for addition\n",
      "Enter 'subtract' for subtraction\n",
      "Enter 'multiply' for multiplication\n",
      "Enter 'divide' for division\n",
      "Enter 'quit' to end the program\n"
     ]
    },
    {
     "name": "stdin",
     "output_type": "stream",
     "text": [
      ":  add\n",
      "Enter first number:  10\n",
      "Enter second number:  20\n"
     ]
    },
    {
     "name": "stdout",
     "output_type": "stream",
     "text": [
      "Result: 30.0\n",
      "Options:\n",
      "Enter 'add' for addition\n",
      "Enter 'subtract' for subtraction\n",
      "Enter 'multiply' for multiplication\n",
      "Enter 'divide' for division\n",
      "Enter 'quit' to end the program\n"
     ]
    },
    {
     "name": "stdin",
     "output_type": "stream",
     "text": [
      ":  Quit\n"
     ]
    },
    {
     "name": "stdout",
     "output_type": "stream",
     "text": [
      "Invalid input. Please enter a valid operation.\n",
      "Options:\n",
      "Enter 'add' for addition\n",
      "Enter 'subtract' for subtraction\n",
      "Enter 'multiply' for multiplication\n",
      "Enter 'divide' for division\n",
      "Enter 'quit' to end the program\n"
     ]
    },
    {
     "name": "stdin",
     "output_type": "stream",
     "text": [
      ":  quit\n"
     ]
    }
   ],
   "source": [
    "#Write a python code to demonstrate calculator functionality\n",
    "while True:\n",
    "    print(\"Options:\")\n",
    "    print(\"Enter 'add' for addition\")\n",
    "    print(\"Enter 'subtract' for subtraction\")\n",
    "    print(\"Enter 'multiply' for multiplication\")\n",
    "    print(\"Enter 'divide' for division\")\n",
    "    print(\"Enter 'quit' to end the program\")\n",
    "\n",
    "    user_input = input(\": \")\n",
    "    if user_input == \"quit\":\n",
    "        break\n",
    "    elif user_input == \"add\":\n",
    "        num1 = float(input(\"Enter first number: \"))\n",
    "        num2 = float(input(\"Enter second number: \"))\n",
    "        result = num1 + num2\n",
    "        print(\"Result:\", result)\n",
    "    elif user_input == \"subtract\":\n",
    "        num1 = float(input(\"Enter first number: \"))\n",
    "        num2 = float(input(\"Enter second number: \"))\n",
    "        result = num1 - num2\n",
    "        print(\"Result:\", result)\n",
    "    elif user_input == \"multiply\":\n",
    "        num1 = float(input(\"Enter first number: \"))\n",
    "        num2 = float(input(\"Enter second number: \"))\n",
    "        result = num1 * num2\n",
    "        print(\"Result:\", result)\n",
    "    elif user_input == \"divide\":\n",
    "        num1 = float(input(\"Enter numerator: \"))\n",
    "        num2 = float(input(\"Enter denominator: \"))\n",
    "        if num2 == 0:\n",
    "            print(\"Division by zero is not allowed.\")\n",
    "        else:\n",
    "            result = num1 / num2\n",
    "            print(\"Result:\", result)\n",
    "    else:\n",
    "        print(\"Invalid input. Please enter a valid operation.\")"
   ]
  },
  {
   "cell_type": "code",
   "execution_count": 28,
   "id": "8e4cda52-b0b5-4090-b1af-217cb698e9ea",
   "metadata": {},
   "outputs": [
    {
     "name": "stdin",
     "output_type": "stream",
     "text": [
      "Enter the base (a):  2\n",
      "Enter the value (n):  2\n"
     ]
    },
    {
     "name": "stdout",
     "output_type": "stream",
     "text": [
      "An integer exponent x such that 2^x = 2 is 1\n"
     ]
    }
   ],
   "source": [
    "#Write a Python program to find an integer exponent x such that a^x = n\n",
    "a = int(input(\"Enter the base (a): \"))\n",
    "n = int(input(\"Enter the value (n): \"))\n",
    "x = 0\n",
    "while a ** x != n:\n",
    "    x += 1\n",
    "    print(f\"An integer exponent x such that {a}^x = {n} is {x}\")"
   ]
  },
  {
   "cell_type": "code",
   "execution_count": 29,
   "id": "3e780d34-3cf9-4363-b23e-df148811ca9a",
   "metadata": {},
   "outputs": [
    {
     "name": "stdin",
     "output_type": "stream",
     "text": [
      "enter three digit number 123\n"
     ]
    },
    {
     "name": "stdout",
     "output_type": "stream",
     "text": [
      "sum of three digit numbe 6\n"
     ]
    }
   ],
   "source": [
    "#SUM OF 3 DIGIT NUMBER\n",
    "n= int(input('enter three digit number'))\n",
    "#last digit\n",
    "c=n%10\n",
    "n=n//10\n",
    "#second digit\n",
    "b=n%10\n",
    "n=n//10\n",
    "#first digit\n",
    "a=n%10\n",
    "print(f\"sum of three digit numbe {a+b+c}\")"
   ]
  },
  {
   "cell_type": "code",
   "execution_count": null,
   "id": "133a4b68-5e4c-4012-8063-36d78a6a108f",
   "metadata": {},
   "outputs": [],
   "source": []
  }
 ],
 "metadata": {
  "kernelspec": {
   "display_name": "Python 3 (ipykernel)",
   "language": "python",
   "name": "python3"
  },
  "language_info": {
   "codemirror_mode": {
    "name": "ipython",
    "version": 3
   },
   "file_extension": ".py",
   "mimetype": "text/x-python",
   "name": "python",
   "nbconvert_exporter": "python",
   "pygments_lexer": "ipython3",
   "version": "3.13.5"
  }
 },
 "nbformat": 4,
 "nbformat_minor": 5
}
